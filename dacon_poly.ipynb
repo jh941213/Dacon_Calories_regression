{
  "metadata": {
    "kernelspec": {
      "language": "python",
      "display_name": "Python 3",
      "name": "python3"
    },
    "language_info": {
      "name": "python",
      "version": "3.7.12",
      "mimetype": "text/x-python",
      "codemirror_mode": {
        "name": "ipython",
        "version": 3
      },
      "pygments_lexer": "ipython3",
      "nbconvert_exporter": "python",
      "file_extension": ".py"
    },
    "colab": {
      "provenance": []
    },
    "gpuClass": "standard"
  },
  "nbformat_minor": 0,
  "nbformat": 4,
  "cells": [
    {
      "cell_type": "code",
      "source": [
        "!pip install mljar-supervised"
      ],
      "metadata": {
        "colab": {
          "base_uri": "https://localhost:8080/"
        },
        "id": "jSAiteYo9fxX",
        "outputId": "2086abcb-25ff-4982-c9bd-de12db51636e",
        "execution": {
          "iopub.status.busy": "2023-04-11T15:42:33.965357Z",
          "iopub.execute_input": "2023-04-11T15:42:33.966061Z",
          "iopub.status.idle": "2023-04-11T15:42:49.325904Z",
          "shell.execute_reply.started": "2023-04-11T15:42:33.966031Z",
          "shell.execute_reply": "2023-04-11T15:42:49.324675Z"
        },
        "trusted": true
      },
      "execution_count": 1,
      "outputs": [
        {
          "output_type": "stream",
          "name": "stdout",
          "text": [
            "Looking in indexes: https://pypi.org/simple, https://us-python.pkg.dev/colab-wheels/public/simple/\n",
            "Collecting mljar-supervised\n",
            "  Downloading mljar-supervised-0.11.5.tar.gz (112 kB)\n",
            "\u001b[2K     \u001b[90m━━━━━━━━━━━━━━━━━━━━━━━━━━━━━━━━━━━━━━━\u001b[0m \u001b[32m112.7/112.7 kB\u001b[0m \u001b[31m2.6 MB/s\u001b[0m eta \u001b[36m0:00:00\u001b[0m\n",
            "\u001b[?25h  Preparing metadata (setup.py) ... \u001b[?25l\u001b[?25hdone\n",
            "Requirement already satisfied: numpy>=1.19.5 in /usr/local/lib/python3.9/dist-packages (from mljar-supervised) (1.22.4)\n",
            "Requirement already satisfied: pandas>=1.2.0 in /usr/local/lib/python3.9/dist-packages (from mljar-supervised) (1.5.3)\n",
            "Requirement already satisfied: scipy>=1.6.1 in /usr/local/lib/python3.9/dist-packages (from mljar-supervised) (1.10.1)\n",
            "Requirement already satisfied: scikit-learn>=1.0 in /usr/local/lib/python3.9/dist-packages (from mljar-supervised) (1.2.2)\n",
            "Requirement already satisfied: xgboost>=1.3.3 in /usr/local/lib/python3.9/dist-packages (from mljar-supervised) (1.7.5)\n",
            "Requirement already satisfied: lightgbm>=3.0.0 in /usr/local/lib/python3.9/dist-packages (from mljar-supervised) (3.3.5)\n",
            "Collecting catboost>=0.24.4\n",
            "  Downloading catboost-1.1.1-cp39-none-manylinux1_x86_64.whl (76.6 MB)\n",
            "\u001b[2K     \u001b[90m━━━━━━━━━━━━━━━━━━━━━━━━━━━━━━━━━━━━━━━━\u001b[0m \u001b[32m76.6/76.6 MB\u001b[0m \u001b[31m10.0 MB/s\u001b[0m eta \u001b[36m0:00:00\u001b[0m\n",
            "\u001b[?25hRequirement already satisfied: joblib>=1.0.1 in /usr/local/lib/python3.9/dist-packages (from mljar-supervised) (1.2.0)\n",
            "Requirement already satisfied: tabulate>=0.8.7 in /usr/local/lib/python3.9/dist-packages (from mljar-supervised) (0.8.10)\n",
            "Requirement already satisfied: matplotlib>=3.2.2 in /usr/local/lib/python3.9/dist-packages (from mljar-supervised) (3.7.1)\n",
            "Collecting dtreeviz>=2.0.0\n",
            "  Downloading dtreeviz-2.2.1-py3-none-any.whl (91 kB)\n",
            "\u001b[2K     \u001b[90m━━━━━━━━━━━━━━━━━━━━━━━━━━━━━━━━━━━━━━━━\u001b[0m \u001b[32m91.5/91.5 kB\u001b[0m \u001b[31m3.8 MB/s\u001b[0m eta \u001b[36m0:00:00\u001b[0m\n",
            "\u001b[?25hCollecting shap>=0.36.0\n",
            "  Downloading shap-0.41.0-cp39-cp39-manylinux_2_12_x86_64.manylinux2010_x86_64.whl (572 kB)\n",
            "\u001b[2K     \u001b[90m━━━━━━━━━━━━━━━━━━━━━━━━━━━━━━━━━━━━━━\u001b[0m \u001b[32m572.4/572.4 kB\u001b[0m \u001b[31m17.3 MB/s\u001b[0m eta \u001b[36m0:00:00\u001b[0m\n",
            "\u001b[?25hRequirement already satisfied: seaborn>=0.11.1 in /usr/local/lib/python3.9/dist-packages (from mljar-supervised) (0.12.2)\n",
            "Requirement already satisfied: wordcloud>=1.8.1 in /usr/local/lib/python3.9/dist-packages (from mljar-supervised) (1.8.2.2)\n",
            "Collecting category_encoders>=2.2.2\n",
            "  Downloading category_encoders-2.6.0-py2.py3-none-any.whl (81 kB)\n",
            "\u001b[2K     \u001b[90m━━━━━━━━━━━━━━━━━━━━━━━━━━━━━━━━━━━━━━━━\u001b[0m \u001b[32m81.2/81.2 kB\u001b[0m \u001b[31m6.5 MB/s\u001b[0m eta \u001b[36m0:00:00\u001b[0m\n",
            "\u001b[?25hCollecting optuna>=2.7.0\n",
            "  Downloading optuna-3.1.1-py3-none-any.whl (365 kB)\n",
            "\u001b[2K     \u001b[90m━━━━━━━━━━━━━━━━━━━━━━━━━━━━━━━━━━━━━━\u001b[0m \u001b[32m365.7/365.7 kB\u001b[0m \u001b[31m18.1 MB/s\u001b[0m eta \u001b[36m0:00:00\u001b[0m\n",
            "\u001b[?25hCollecting scikit-plot==0.3.7\n",
            "  Downloading scikit_plot-0.3.7-py3-none-any.whl (33 kB)\n",
            "Requirement already satisfied: markdown in /usr/local/lib/python3.9/dist-packages (from mljar-supervised) (3.4.3)\n",
            "Requirement already satisfied: typing-extensions in /usr/local/lib/python3.9/dist-packages (from mljar-supervised) (4.5.0)\n",
            "Requirement already satisfied: plotly in /usr/local/lib/python3.9/dist-packages (from catboost>=0.24.4->mljar-supervised) (5.13.1)\n",
            "Requirement already satisfied: six in /usr/local/lib/python3.9/dist-packages (from catboost>=0.24.4->mljar-supervised) (1.16.0)\n",
            "Requirement already satisfied: graphviz in /usr/local/lib/python3.9/dist-packages (from catboost>=0.24.4->mljar-supervised) (0.20.1)\n",
            "Requirement already satisfied: statsmodels>=0.9.0 in /usr/local/lib/python3.9/dist-packages (from category_encoders>=2.2.2->mljar-supervised) (0.13.5)\n",
            "Requirement already satisfied: patsy>=0.5.1 in /usr/local/lib/python3.9/dist-packages (from category_encoders>=2.2.2->mljar-supervised) (0.5.3)\n",
            "Collecting colour\n",
            "  Downloading colour-0.1.5-py2.py3-none-any.whl (23 kB)\n",
            "Requirement already satisfied: pytest in /usr/local/lib/python3.9/dist-packages (from dtreeviz>=2.0.0->mljar-supervised) (7.2.2)\n",
            "Requirement already satisfied: wheel in /usr/local/lib/python3.9/dist-packages (from lightgbm>=3.0.0->mljar-supervised) (0.40.0)\n",
            "Requirement already satisfied: packaging>=20.0 in /usr/local/lib/python3.9/dist-packages (from matplotlib>=3.2.2->mljar-supervised) (23.1)\n",
            "Requirement already satisfied: kiwisolver>=1.0.1 in /usr/local/lib/python3.9/dist-packages (from matplotlib>=3.2.2->mljar-supervised) (1.4.4)\n",
            "Requirement already satisfied: pyparsing>=2.3.1 in /usr/local/lib/python3.9/dist-packages (from matplotlib>=3.2.2->mljar-supervised) (3.0.9)\n",
            "Requirement already satisfied: python-dateutil>=2.7 in /usr/local/lib/python3.9/dist-packages (from matplotlib>=3.2.2->mljar-supervised) (2.8.2)\n",
            "Requirement already satisfied: importlib-resources>=3.2.0 in /usr/local/lib/python3.9/dist-packages (from matplotlib>=3.2.2->mljar-supervised) (5.12.0)\n",
            "Requirement already satisfied: cycler>=0.10 in /usr/local/lib/python3.9/dist-packages (from matplotlib>=3.2.2->mljar-supervised) (0.11.0)\n",
            "Requirement already satisfied: contourpy>=1.0.1 in /usr/local/lib/python3.9/dist-packages (from matplotlib>=3.2.2->mljar-supervised) (1.0.7)\n",
            "Requirement already satisfied: pillow>=6.2.0 in /usr/local/lib/python3.9/dist-packages (from matplotlib>=3.2.2->mljar-supervised) (8.4.0)\n",
            "Requirement already satisfied: fonttools>=4.22.0 in /usr/local/lib/python3.9/dist-packages (from matplotlib>=3.2.2->mljar-supervised) (4.39.3)\n",
            "Collecting alembic>=1.5.0\n",
            "  Downloading alembic-1.10.3-py3-none-any.whl (212 kB)\n",
            "\u001b[2K     \u001b[90m━━━━━━━━━━━━━━━━━━━━━━━━━━━━━━━━━━━━━━\u001b[0m \u001b[32m212.3/212.3 kB\u001b[0m \u001b[31m11.0 MB/s\u001b[0m eta \u001b[36m0:00:00\u001b[0m\n",
            "\u001b[?25hRequirement already satisfied: tqdm in /usr/local/lib/python3.9/dist-packages (from optuna>=2.7.0->mljar-supervised) (4.65.0)\n",
            "Collecting cmaes>=0.9.1\n",
            "  Downloading cmaes-0.9.1-py3-none-any.whl (21 kB)\n",
            "Requirement already satisfied: PyYAML in /usr/local/lib/python3.9/dist-packages (from optuna>=2.7.0->mljar-supervised) (6.0)\n",
            "Collecting colorlog\n",
            "  Downloading colorlog-6.7.0-py2.py3-none-any.whl (11 kB)\n",
            "Requirement already satisfied: sqlalchemy>=1.3.0 in /usr/local/lib/python3.9/dist-packages (from optuna>=2.7.0->mljar-supervised) (2.0.9)\n",
            "Requirement already satisfied: pytz>=2020.1 in /usr/local/lib/python3.9/dist-packages (from pandas>=1.2.0->mljar-supervised) (2022.7.1)\n",
            "Requirement already satisfied: threadpoolctl>=2.0.0 in /usr/local/lib/python3.9/dist-packages (from scikit-learn>=1.0->mljar-supervised) (3.1.0)\n",
            "Requirement already satisfied: cloudpickle in /usr/local/lib/python3.9/dist-packages (from shap>=0.36.0->mljar-supervised) (2.2.1)\n",
            "Collecting slicer==0.0.7\n",
            "  Downloading slicer-0.0.7-py3-none-any.whl (14 kB)\n",
            "Requirement already satisfied: numba in /usr/local/lib/python3.9/dist-packages (from shap>=0.36.0->mljar-supervised) (0.56.4)\n",
            "Requirement already satisfied: importlib-metadata>=4.4 in /usr/local/lib/python3.9/dist-packages (from markdown->mljar-supervised) (6.4.1)\n",
            "Collecting Mako\n",
            "  Downloading Mako-1.2.4-py3-none-any.whl (78 kB)\n",
            "\u001b[2K     \u001b[90m━━━━━━━━━━━━━━━━━━━━━━━━━━━━━━━━━━━━━━━━\u001b[0m \u001b[32m78.7/78.7 kB\u001b[0m \u001b[31m4.7 MB/s\u001b[0m eta \u001b[36m0:00:00\u001b[0m\n",
            "\u001b[?25hRequirement already satisfied: zipp>=0.5 in /usr/local/lib/python3.9/dist-packages (from importlib-metadata>=4.4->markdown->mljar-supervised) (3.15.0)\n",
            "Requirement already satisfied: greenlet!=0.4.17 in /usr/local/lib/python3.9/dist-packages (from sqlalchemy>=1.3.0->optuna>=2.7.0->mljar-supervised) (2.0.2)\n",
            "Requirement already satisfied: setuptools in /usr/local/lib/python3.9/dist-packages (from numba->shap>=0.36.0->mljar-supervised) (67.6.1)\n",
            "Requirement already satisfied: llvmlite<0.40,>=0.39.0dev0 in /usr/local/lib/python3.9/dist-packages (from numba->shap>=0.36.0->mljar-supervised) (0.39.1)\n",
            "Requirement already satisfied: tenacity>=6.2.0 in /usr/local/lib/python3.9/dist-packages (from plotly->catboost>=0.24.4->mljar-supervised) (8.2.2)\n",
            "Requirement already satisfied: pluggy<2.0,>=0.12 in /usr/local/lib/python3.9/dist-packages (from pytest->dtreeviz>=2.0.0->mljar-supervised) (1.0.0)\n",
            "Requirement already satisfied: attrs>=19.2.0 in /usr/local/lib/python3.9/dist-packages (from pytest->dtreeviz>=2.0.0->mljar-supervised) (23.1.0)\n",
            "Requirement already satisfied: exceptiongroup>=1.0.0rc8 in /usr/local/lib/python3.9/dist-packages (from pytest->dtreeviz>=2.0.0->mljar-supervised) (1.1.1)\n",
            "Requirement already satisfied: tomli>=1.0.0 in /usr/local/lib/python3.9/dist-packages (from pytest->dtreeviz>=2.0.0->mljar-supervised) (2.0.1)\n",
            "Requirement already satisfied: iniconfig in /usr/local/lib/python3.9/dist-packages (from pytest->dtreeviz>=2.0.0->mljar-supervised) (2.0.0)\n",
            "Requirement already satisfied: MarkupSafe>=0.9.2 in /usr/local/lib/python3.9/dist-packages (from Mako->alembic>=1.5.0->optuna>=2.7.0->mljar-supervised) (2.1.2)\n",
            "Building wheels for collected packages: mljar-supervised\n",
            "  Building wheel for mljar-supervised (setup.py) ... \u001b[?25l\u001b[?25hdone\n",
            "  Created wheel for mljar-supervised: filename=mljar_supervised-0.11.5-py3-none-any.whl size=147060 sha256=6f9a6b313a7e2d8323f354d4b6a8130626d523ea972504962abb5ff026ecfa64\n",
            "  Stored in directory: /root/.cache/pip/wheels/62/ed/f2/9a70a649613cf977a8b1e39ce373d14290a135fa309c1f1638\n",
            "Successfully built mljar-supervised\n",
            "Installing collected packages: colour, slicer, Mako, colorlog, cmaes, alembic, shap, scikit-plot, optuna, dtreeviz, catboost, category_encoders, mljar-supervised\n",
            "Successfully installed Mako-1.2.4 alembic-1.10.3 catboost-1.1.1 category_encoders-2.6.0 cmaes-0.9.1 colorlog-6.7.0 colour-0.1.5 dtreeviz-2.2.1 mljar-supervised-0.11.5 optuna-3.1.1 scikit-plot-0.3.7 shap-0.41.0 slicer-0.0.7\n"
          ]
        }
      ]
    },
    {
      "cell_type": "code",
      "source": [
        "import pandas as pd\n",
        "import numpy as np\n",
        "import random\n",
        "import os\n",
        "from supervised.automl import AutoML\n",
        "import pandas as pd\n",
        "from sklearn.preprocessing import PolynomialFeatures\n",
        "import numpy as np\n",
        "import random\n",
        "import os\n",
        "import gc\n",
        "from sklearn.preprocessing import StandardScaler, MinMaxScaler\n",
        "from sklearn.ensemble import RandomForestClassifier\n",
        "from sklearn.preprocessing import LabelEncoder\n",
        "import pandas as pd\n",
        "import matplotlib.pyplot as plt\n",
        "import seaborn as sns\n",
        "import pandas as pd\n",
        "from sklearn.preprocessing import PolynomialFeatures\n",
        "from sklearn.model_selection import train_test_split\n",
        "from sklearn.preprocessing import StandardScaler\n",
        "from sklearn.neural_network import MLPRegressor\n",
        "from sklearn.metrics import mean_squared_error\n",
        "import numpy as np\n",
        "import warnings\n",
        "warnings.filterwarnings('ignore')"
      ],
      "metadata": {
        "id": "Q54eGk6r9fxZ",
        "execution": {
          "iopub.status.busy": "2023-04-11T18:01:16.781412Z",
          "iopub.execute_input": "2023-04-11T18:01:16.781943Z",
          "iopub.status.idle": "2023-04-11T18:01:16.799951Z",
          "shell.execute_reply.started": "2023-04-11T18:01:16.781895Z",
          "shell.execute_reply": "2023-04-11T18:01:16.798198Z"
        },
        "trusted": true
      },
      "execution_count": 12,
      "outputs": []
    },
    {
      "cell_type": "code",
      "source": [
        "def seed_everything(seed):\n",
        "    random.seed(seed)\n",
        "    os.environ['PYTHONHASHSEED'] = str(seed)\n",
        "    np.random.seed(seed)\n",
        "seed_everything(42) # 행운의 seed"
      ],
      "metadata": {
        "id": "M6EFs7M39fxa",
        "execution": {
          "iopub.status.busy": "2023-04-11T18:01:17.143191Z",
          "iopub.execute_input": "2023-04-11T18:01:17.143552Z",
          "iopub.status.idle": "2023-04-11T18:01:17.150034Z",
          "shell.execute_reply.started": "2023-04-11T18:01:17.143514Z",
          "shell.execute_reply": "2023-04-11T18:01:17.148784Z"
        },
        "trusted": true
      },
      "execution_count": 13,
      "outputs": []
    },
    {
      "cell_type": "markdown",
      "source": [],
      "metadata": {
        "id": "ERyY4DiKlmI0"
      }
    },
    {
      "cell_type": "code",
      "source": [
        "train_df = pd.read_csv('/content/train.csv')\n",
        "test_df = pd.read_csv('/content/test.csv')"
      ],
      "metadata": {
        "id": "hS5iC8CE9_Qu",
        "execution": {
          "iopub.status.busy": "2023-04-11T18:01:18.196063Z",
          "iopub.execute_input": "2023-04-11T18:01:18.196434Z",
          "iopub.status.idle": "2023-04-11T18:01:18.225706Z",
          "shell.execute_reply.started": "2023-04-11T18:01:18.196401Z",
          "shell.execute_reply": "2023-04-11T18:01:18.224733Z"
        },
        "trusted": true
      },
      "execution_count": 14,
      "outputs": []
    },
    {
      "cell_type": "code",
      "source": [
        "# ID 열 제거\n",
        "train_df = train_df.drop('ID', axis=1)\n",
        "test_df = test_df.drop('ID', axis=1)"
      ],
      "metadata": {
        "id": "hrCsq9J1lrbv"
      },
      "execution_count": 15,
      "outputs": []
    },
    {
      "cell_type": "code",
      "source": [
        "# Weight_Status, Gender 열을 숫자 데이터로 변환\n",
        "train_df['Weight_Status'] = train_df['Weight_Status'].map({'Normal Weight': 0, 'Overweight': 1, 'Obese': 2})\n",
        "train_df['Gender'] = train_df['Gender'].map({'M': 0, 'F': 1})\n",
        "test_df['Weight_Status'] = test_df['Weight_Status'].map({'Normal Weight': 0, 'Overweight': 1, 'Obese': 2})\n",
        "test_df['Gender'] = test_df['Gender'].map({'M': 0, 'F': 1})"
      ],
      "metadata": {
        "id": "oeYPBOP5lmpm"
      },
      "execution_count": 16,
      "outputs": []
    },
    {
      "cell_type": "code",
      "source": [
        "# PolynomialFeatures를 사용하여 데이터 전처리\n",
        "poly = PolynomialFeatures(degree=2, include_bias=False)\n",
        "X = poly.fit_transform(train_df.drop('Calories_Burned', axis=1))\n",
        "y = train_df['Calories_Burned']"
      ],
      "metadata": {
        "id": "g5E54Np-lmrr"
      },
      "execution_count": 17,
      "outputs": []
    },
    {
      "cell_type": "code",
      "source": [
        "test_df_poly = poly.fit_transform(test_df)"
      ],
      "metadata": {
        "id": "NDWwbltMl9qi"
      },
      "execution_count": 20,
      "outputs": []
    },
    {
      "cell_type": "code",
      "source": [
        "test_df_poly"
      ],
      "metadata": {
        "colab": {
          "base_uri": "https://localhost:8080/"
        },
        "id": "gaOznqmCmGzc",
        "outputId": "a3fe5042-fe77-4799-d145-59144bce5fe0"
      },
      "execution_count": 22,
      "outputs": [
        {
          "output_type": "execute_result",
          "data": {
            "text/plain": [
              "array([[2.600e+01, 1.051e+02, 1.070e+02, ..., 1.000e+00, 4.500e+01,\n",
              "        2.025e+03],\n",
              "       [2.900e+01, 1.049e+02, 1.110e+02, ..., 0.000e+00, 0.000e+00,\n",
              "        4.410e+02],\n",
              "       [1.100e+01, 1.040e+02, 9.000e+01, ..., 0.000e+00, 0.000e+00,\n",
              "        3.364e+03],\n",
              "       ...,\n",
              "       [2.400e+01, 1.051e+02, 9.700e+01, ..., 1.000e+00, 4.200e+01,\n",
              "        1.764e+03],\n",
              "       [8.000e+00, 1.031e+02, 8.300e+01, ..., 1.000e+00, 4.800e+01,\n",
              "        2.304e+03],\n",
              "       [2.900e+01, 1.056e+02, 1.070e+02, ..., 1.000e+00, 4.400e+01,\n",
              "        1.936e+03]])"
            ]
          },
          "metadata": {},
          "execution_count": 22
        }
      ]
    },
    {
      "cell_type": "code",
      "source": [
        "# 표준화\n",
        "scaler = StandardScaler()\n",
        "X_scaled = scaler.fit_transform(X)"
      ],
      "metadata": {
        "id": "BUlqFnIylmuJ"
      },
      "execution_count": 18,
      "outputs": []
    },
    {
      "cell_type": "code",
      "source": [
        "X_test = scaler.fit_transform(test_df_poly)"
      ],
      "metadata": {
        "id": "QLr5BWWDlmwf"
      },
      "execution_count": 23,
      "outputs": []
    },
    {
      "cell_type": "code",
      "source": [
        "X_test"
      ],
      "metadata": {
        "colab": {
          "base_uri": "https://localhost:8080/"
        },
        "id": "pMbmF8dnlmyj",
        "outputId": "59d3726d-0f22-42d6-a54a-37f8698f7c31"
      },
      "execution_count": 24,
      "outputs": [
        {
          "output_type": "execute_result",
          "data": {
            "text/plain": [
              "array([[ 1.26043576,  0.7484879 ,  1.19644336, ...,  0.99097407,\n",
              "         0.94565196, -0.06836125],\n",
              "       [ 1.62262994,  0.60479661,  1.61401124, ..., -1.00910814,\n",
              "        -0.87777196, -1.04634641],\n",
              "       [-0.55053516, -0.04181416, -0.57822018, ..., -1.00910814,\n",
              "        -0.87777196,  0.75835727],\n",
              "       ...,\n",
              "       [ 1.01897297,  0.7484879 ,  0.15252363, ...,  0.99097407,\n",
              "         0.82409036, -0.22950653],\n",
              "       [-0.91272934, -0.68842494, -1.30896398, ...,  0.99097407,\n",
              "         1.06721355,  0.10389751],\n",
              "       [ 1.62262994,  1.10771611,  1.19644336, ...,  0.99097407,\n",
              "         0.90513142, -0.12331117]])"
            ]
          },
          "metadata": {},
          "execution_count": 24
        }
      ]
    },
    {
      "cell_type": "code",
      "source": [
        "automl = AutoML(mode=\"Compete\", eval_metric='rmse',total_time_limit=3600)"
      ],
      "metadata": {
        "id": "M-F3Dcvo-aGM",
        "execution": {
          "iopub.status.busy": "2023-04-11T18:02:15.458971Z",
          "iopub.execute_input": "2023-04-11T18:02:15.459338Z",
          "iopub.status.idle": "2023-04-11T18:02:15.464427Z",
          "shell.execute_reply.started": "2023-04-11T18:02:15.459304Z",
          "shell.execute_reply": "2023-04-11T18:02:15.463119Z"
        },
        "trusted": true
      },
      "execution_count": 29,
      "outputs": []
    },
    {
      "cell_type": "code",
      "source": [
        "automl.fit(X,y)"
      ],
      "metadata": {
        "colab": {
          "base_uri": "https://localhost:8080/"
        },
        "id": "_lqzJphT9fxd",
        "outputId": "14f7c3e2-6433-4e9b-d4b6-f6752ba39c48",
        "execution": {
          "iopub.status.busy": "2023-04-11T18:02:19.100336Z",
          "iopub.execute_input": "2023-04-11T18:02:19.101403Z"
        },
        "trusted": true
      },
      "execution_count": null,
      "outputs": [
        {
          "output_type": "stream",
          "name": "stdout",
          "text": [
            "AutoML directory: AutoML_2\n",
            "The task is regression with evaluation metric rmse\n",
            "AutoML will use algorithms: ['Decision Tree', 'Linear', 'Random Forest', 'Extra Trees', 'LightGBM', 'Xgboost', 'CatBoost', 'Neural Network', 'Nearest Neighbors']\n",
            "AutoML will stack models\n",
            "AutoML will ensemble available models\n",
            "AutoML steps: ['adjust_validation', 'simple_algorithms', 'default_algorithms', 'not_so_random', 'golden_features', 'kmeans_features', 'insert_random_feature', 'features_selection', 'hill_climbing_1', 'hill_climbing_2', 'boost_on_errors', 'ensemble', 'stack', 'ensemble_stacked']\n",
            "* Step adjust_validation will try to check up to 1 model\n",
            "1_DecisionTree rmse 16.137708 trained in 1.68 seconds\n",
            "Adjust validation. Remove: 1_DecisionTree\n",
            "Validation strategy: 10-fold CV Shuffle\n",
            "* Step simple_algorithms will try to check up to 4 models\n",
            "1_DecisionTree rmse 15.516733 trained in 9.97 seconds\n",
            "2_DecisionTree rmse 12.365723 trained in 9.32 seconds\n",
            "3_DecisionTree rmse 12.365723 trained in 9.1 seconds\n",
            "4_Linear rmse 2.981253 trained in 10.43 seconds\n",
            "* Step default_algorithms will try to check up to 7 models\n",
            "5_Default_LightGBM rmse 1.829059 trained in 139.18 seconds\n",
            "6_Default_Xgboost rmse 1.831341 trained in 119.14 seconds\n",
            "7_Default_CatBoost rmse 1.081096 trained in 344.42 seconds\n",
            "8_Default_NeuralNetwork rmse 1.615298 trained in 27.88 seconds\n",
            "9_Default_RandomForest rmse 10.27558 trained in 87.18 seconds\n",
            "10_Default_ExtraTrees rmse 10.365022 trained in 31.13 seconds\n",
            "There was an error during 11_Default_NearestNeighbors training.\n",
            "Please check AutoML_2/errors.md for details.\n",
            "* Step not_so_random will try to check up to 63 models\n",
            "20_LightGBM rmse 1.54659 trained in 144.95 seconds\n",
            "11_Xgboost rmse 2.08016 trained in 100.27 seconds\n",
            "29_CatBoost rmse 1.168154 trained in 634.58 seconds\n",
            "38_RandomForest rmse 10.069232 trained in 59.73 seconds\n",
            "47_ExtraTrees rmse 10.931575 trained in 28.47 seconds\n",
            "56_NeuralNetwork rmse 1.799536 trained in 29.45 seconds\n",
            "* Step golden_features will try to check up to 3 models\n",
            "None 10\n",
            "Add Golden Feature: feature_39_sum_feature_12\n",
            "Add Golden Feature: feature_18_sum_feature_12\n",
            "Add Golden Feature: feature_12_sum_feature_9\n",
            "Add Golden Feature: feature_51_sum_feature_12\n",
            "Add Golden Feature: feature_27_multiply_feature_11\n",
            "Add Golden Feature: feature_20_multiply_feature_12\n",
            "Add Golden Feature: feature_27_multiply_feature_1\n",
            "Add Golden Feature: feature_12_multiply_feature_3\n",
            "Add Golden Feature: feature_10_diff_feature_12\n",
            "Add Golden Feature: feature_27_multiply_feature_12\n",
            "Created 10 Golden Features in 27.07 seconds.\n"
          ]
        }
      ]
    },
    {
      "cell_type": "code",
      "source": [
        "preds = automl.predict(test_x)"
      ],
      "metadata": {
        "id": "EKU-aumD9fxd",
        "execution": {
          "iopub.status.busy": "2023-04-11T17:55:20.742391Z",
          "iopub.execute_input": "2023-04-11T17:55:20.743369Z",
          "iopub.status.idle": "2023-04-11T17:58:34.766876Z",
          "shell.execute_reply.started": "2023-04-11T17:55:20.743315Z",
          "shell.execute_reply": "2023-04-11T17:58:34.765252Z"
        },
        "trusted": true
      },
      "execution_count": null,
      "outputs": []
    },
    {
      "cell_type": "code",
      "source": [
        "preds"
      ],
      "metadata": {
        "colab": {
          "base_uri": "https://localhost:8080/"
        },
        "id": "Y3NuCPMUrY2O",
        "outputId": "7f7c8f16-12c4-4c5c-f098-74554a6d029f"
      },
      "execution_count": null,
      "outputs": [
        {
          "output_type": "execute_result",
          "data": {
            "text/plain": [
              "array([0.57471465, 0.63229731, 0.17586672, ..., 0.43171307, 0.10469064,\n",
              "       0.63531938])"
            ]
          },
          "metadata": {},
          "execution_count": 133
        }
      ]
    },
    {
      "cell_type": "code",
      "source": [
        "y_train_orig = tmp_scaler.inverse_transform(preds.reshape(-1, 1))"
      ],
      "metadata": {
        "id": "JpBHE0bhgDy0"
      },
      "execution_count": null,
      "outputs": []
    },
    {
      "cell_type": "code",
      "source": [
        "y_train_orig"
      ],
      "metadata": {
        "colab": {
          "base_uri": "https://localhost:8080/"
        },
        "id": "LF9HgefDKEMH",
        "outputId": "181f5730-55ea-4295-d0f2-f98c70b12165"
      },
      "execution_count": null,
      "outputs": [
        {
          "output_type": "execute_result",
          "data": {
            "text/plain": [
              "array([[172.83967945],\n",
              "       [190.05689538],\n",
              "       [ 53.58414909],\n",
              "       ...,\n",
              "       [130.0822091 ],\n",
              "       [ 32.30250154],\n",
              "       [190.96049395]])"
            ]
          },
          "metadata": {},
          "execution_count": 135
        }
      ]
    },
    {
      "cell_type": "code",
      "source": [
        "original_predictions = np.expm1(preds)\n",
        "\n"
      ],
      "metadata": {
        "id": "SzbG-h1l2qRA"
      },
      "execution_count": null,
      "outputs": []
    },
    {
      "cell_type": "code",
      "source": [
        "original_predictions "
      ],
      "metadata": {
        "colab": {
          "base_uri": "https://localhost:8080/"
        },
        "id": "hkOZshW3KHhp",
        "outputId": "c8b392f7-719f-40e1-ab27-2be9a968e074"
      },
      "execution_count": null,
      "outputs": [
        {
          "output_type": "execute_result",
          "data": {
            "text/plain": [
              "array([173.30731769, 189.58189392,  52.47635869, ..., 130.3391145 ,\n",
              "        31.83627088, 191.44091451])"
            ]
          },
          "metadata": {},
          "execution_count": 94
        }
      ]
    },
    {
      "cell_type": "code",
      "source": [
        "original_predictions"
      ],
      "metadata": {
        "colab": {
          "base_uri": "https://localhost:8080/"
        },
        "id": "0SYcLLPmKRo5",
        "outputId": "8aa0ea98-007d-46af-b6b8-8ada033e6375"
      },
      "execution_count": null,
      "outputs": [
        {
          "output_type": "execute_result",
          "data": {
            "text/plain": [
              "array([172.91414245, 189.659026  ,  53.38801413, ..., 130.20022219,\n",
              "        32.18654902, 191.26626596])"
            ]
          },
          "metadata": {},
          "execution_count": 13
        }
      ]
    },
    {
      "cell_type": "code",
      "source": [
        "original_y_pred = minmax_scaler.inverse_transform(preds.reshape(-1, 1))"
      ],
      "metadata": {
        "id": "krFuZNE-KMCB"
      },
      "execution_count": null,
      "outputs": []
    },
    {
      "cell_type": "code",
      "source": [
        "original_y_pred "
      ],
      "metadata": {
        "id": "YOBbFnaGbTYD"
      },
      "execution_count": null,
      "outputs": []
    },
    {
      "cell_type": "code",
      "source": [
        "original_predictions = np.expm1(original_y_pred)"
      ],
      "metadata": {
        "id": "Y5zQiodlKdkC"
      },
      "execution_count": null,
      "outputs": []
    },
    {
      "cell_type": "code",
      "source": [
        "original_predictions "
      ],
      "metadata": {
        "id": "J9cTWrQnbWXN"
      },
      "execution_count": null,
      "outputs": []
    },
    {
      "cell_type": "code",
      "source": [
        "original_predictions"
      ],
      "metadata": {
        "id": "e2BFf0v6KoRb"
      },
      "execution_count": null,
      "outputs": []
    },
    {
      "cell_type": "code",
      "source": [
        "import gc\n",
        "gc.collect()"
      ],
      "metadata": {
        "execution": {
          "iopub.status.busy": "2023-04-11T17:58:34.769157Z",
          "iopub.execute_input": "2023-04-11T17:58:34.769593Z",
          "iopub.status.idle": "2023-04-11T17:58:37.141870Z",
          "shell.execute_reply.started": "2023-04-11T17:58:34.769538Z",
          "shell.execute_reply": "2023-04-11T17:58:37.140566Z"
        },
        "trusted": true,
        "id": "YwRGeL_7Pace"
      },
      "execution_count": null,
      "outputs": []
    },
    {
      "cell_type": "code",
      "source": [
        "submission = pd.read_csv('/content/sample_submission.csv')"
      ],
      "metadata": {
        "id": "WrDxm-0l_c4Z",
        "execution": {
          "iopub.status.busy": "2023-04-11T17:58:37.156296Z",
          "iopub.execute_input": "2023-04-11T17:58:37.156604Z",
          "iopub.status.idle": "2023-04-11T17:58:37.183352Z",
          "shell.execute_reply.started": "2023-04-11T17:58:37.156576Z",
          "shell.execute_reply": "2023-04-11T17:58:37.182455Z"
        },
        "trusted": true
      },
      "execution_count": null,
      "outputs": []
    },
    {
      "cell_type": "code",
      "source": [
        "submission['Calories_Burned'] = y_train_orig"
      ],
      "metadata": {
        "id": "ZtyMZKko_c6q",
        "execution": {
          "iopub.status.busy": "2023-04-11T17:58:42.307923Z",
          "iopub.execute_input": "2023-04-11T17:58:42.309033Z",
          "iopub.status.idle": "2023-04-11T17:58:42.314909Z",
          "shell.execute_reply.started": "2023-04-11T17:58:42.308991Z",
          "shell.execute_reply": "2023-04-11T17:58:42.313542Z"
        },
        "trusted": true
      },
      "execution_count": null,
      "outputs": []
    },
    {
      "cell_type": "code",
      "source": [
        "submission.to_csv('/content/scale.csv', index = False)"
      ],
      "metadata": {
        "id": "GEoylYpJ9fxd",
        "execution": {
          "iopub.status.busy": "2023-04-11T17:59:07.549349Z",
          "iopub.execute_input": "2023-04-11T17:59:07.549952Z",
          "iopub.status.idle": "2023-04-11T17:59:07.573371Z",
          "shell.execute_reply.started": "2023-04-11T17:59:07.549916Z",
          "shell.execute_reply": "2023-04-11T17:59:07.572428Z"
        },
        "trusted": true
      },
      "execution_count": null,
      "outputs": []
    },
    {
      "cell_type": "code",
      "source": [],
      "metadata": {
        "id": "r8UO-tsq9fxd"
      },
      "execution_count": null,
      "outputs": []
    }
  ]
}