{
  "metadata": {
    "kernelspec": {
      "language": "python",
      "display_name": "Python 3",
      "name": "python3"
    },
    "language_info": {
      "name": "python",
      "version": "3.7.12",
      "mimetype": "text/x-python",
      "codemirror_mode": {
        "name": "ipython",
        "version": 3
      },
      "pygments_lexer": "ipython3",
      "nbconvert_exporter": "python",
      "file_extension": ".py"
    },
    "colab": {
      "provenance": []
    },
    "accelerator": "GPU",
    "gpuClass": "standard"
  },
  "nbformat_minor": 0,
  "nbformat": 4,
  "cells": [
    {
      "cell_type": "code",
      "source": [
        "!pip install mljar-supervised"
      ],
      "metadata": {
        "execution": {
          "iopub.status.busy": "2023-04-05T04:25:32.876827Z",
          "iopub.execute_input": "2023-04-05T04:25:32.877218Z",
          "iopub.status.idle": "2023-04-05T04:25:48.572733Z",
          "shell.execute_reply.started": "2023-04-05T04:25:32.877182Z",
          "shell.execute_reply": "2023-04-05T04:25:48.571160Z"
        },
        "trusted": true,
        "colab": {
          "base_uri": "https://localhost:8080/"
        },
        "id": "jSAiteYo9fxX",
        "outputId": "f6e6f05e-3b9a-4394-e164-3a5b3453a64f"
      },
      "execution_count": 1,
      "outputs": [
        {
          "output_type": "stream",
          "name": "stdout",
          "text": [
            "Looking in indexes: https://pypi.org/simple, https://us-python.pkg.dev/colab-wheels/public/simple/\n",
            "Collecting mljar-supervised\n",
            "  Downloading mljar-supervised-0.11.5.tar.gz (112 kB)\n",
            "\u001b[2K     \u001b[90m━━━━━━━━━━━━━━━━━━━━━━━━━━━━━━━━━━━━━━━\u001b[0m \u001b[32m112.7/112.7 KB\u001b[0m \u001b[31m1.4 MB/s\u001b[0m eta \u001b[36m0:00:00\u001b[0m\n",
            "\u001b[?25h  Preparing metadata (setup.py) ... \u001b[?25l\u001b[?25hdone\n",
            "Requirement already satisfied: numpy>=1.19.5 in /usr/local/lib/python3.9/dist-packages (from mljar-supervised) (1.22.4)\n",
            "Requirement already satisfied: pandas>=1.2.0 in /usr/local/lib/python3.9/dist-packages (from mljar-supervised) (1.4.4)\n",
            "Requirement already satisfied: scipy>=1.6.1 in /usr/local/lib/python3.9/dist-packages (from mljar-supervised) (1.10.1)\n",
            "Requirement already satisfied: scikit-learn>=1.0 in /usr/local/lib/python3.9/dist-packages (from mljar-supervised) (1.2.2)\n",
            "Requirement already satisfied: xgboost>=1.3.3 in /usr/local/lib/python3.9/dist-packages (from mljar-supervised) (1.7.5)\n",
            "Requirement already satisfied: lightgbm>=3.0.0 in /usr/local/lib/python3.9/dist-packages (from mljar-supervised) (3.3.5)\n",
            "Collecting catboost>=0.24.4\n",
            "  Downloading catboost-1.1.1-cp39-none-manylinux1_x86_64.whl (76.6 MB)\n",
            "\u001b[2K     \u001b[90m━━━━━━━━━━━━━━━━━━━━━━━━━━━━━━━━━━━━━━━━\u001b[0m \u001b[32m76.6/76.6 MB\u001b[0m \u001b[31m12.3 MB/s\u001b[0m eta \u001b[36m0:00:00\u001b[0m\n",
            "\u001b[?25hRequirement already satisfied: joblib>=1.0.1 in /usr/local/lib/python3.9/dist-packages (from mljar-supervised) (1.1.1)\n",
            "Requirement already satisfied: tabulate>=0.8.7 in /usr/local/lib/python3.9/dist-packages (from mljar-supervised) (0.8.10)\n",
            "Requirement already satisfied: matplotlib>=3.2.2 in /usr/local/lib/python3.9/dist-packages (from mljar-supervised) (3.7.1)\n",
            "Collecting dtreeviz>=2.0.0\n",
            "  Downloading dtreeviz-2.2.0-py3-none-any.whl (90 kB)\n",
            "\u001b[2K     \u001b[90m━━━━━━━━━━━━━━━━━━━━━━━━━━━━━━━━━━━━━━━━\u001b[0m \u001b[32m90.5/90.5 KB\u001b[0m \u001b[31m3.8 MB/s\u001b[0m eta \u001b[36m0:00:00\u001b[0m\n",
            "\u001b[?25hCollecting shap>=0.36.0\n",
            "  Downloading shap-0.41.0-cp39-cp39-manylinux_2_12_x86_64.manylinux2010_x86_64.whl (572 kB)\n",
            "\u001b[2K     \u001b[90m━━━━━━━━━━━━━━━━━━━━━━━━━━━━━━━━━━━━━━\u001b[0m \u001b[32m572.4/572.4 KB\u001b[0m \u001b[31m10.9 MB/s\u001b[0m eta \u001b[36m0:00:00\u001b[0m\n",
            "\u001b[?25hRequirement already satisfied: seaborn>=0.11.1 in /usr/local/lib/python3.9/dist-packages (from mljar-supervised) (0.12.2)\n",
            "Requirement already satisfied: wordcloud>=1.8.1 in /usr/local/lib/python3.9/dist-packages (from mljar-supervised) (1.8.2.2)\n",
            "Collecting category_encoders>=2.2.2\n",
            "  Downloading category_encoders-2.6.0-py2.py3-none-any.whl (81 kB)\n",
            "\u001b[2K     \u001b[90m━━━━━━━━━━━━━━━━━━━━━━━━━━━━━━━━━━━━━━━━\u001b[0m \u001b[32m81.2/81.2 KB\u001b[0m \u001b[31m5.0 MB/s\u001b[0m eta \u001b[36m0:00:00\u001b[0m\n",
            "\u001b[?25hCollecting optuna>=2.7.0\n",
            "  Downloading optuna-3.1.1-py3-none-any.whl (365 kB)\n",
            "\u001b[2K     \u001b[90m━━━━━━━━━━━━━━━━━━━━━━━━━━━━━━━━━━━━━━━\u001b[0m \u001b[32m365.7/365.7 KB\u001b[0m \u001b[31m6.2 MB/s\u001b[0m eta \u001b[36m0:00:00\u001b[0m\n",
            "\u001b[?25hCollecting scikit-plot==0.3.7\n",
            "  Downloading scikit_plot-0.3.7-py3-none-any.whl (33 kB)\n",
            "Requirement already satisfied: markdown in /usr/local/lib/python3.9/dist-packages (from mljar-supervised) (3.4.3)\n",
            "Requirement already satisfied: typing-extensions in /usr/local/lib/python3.9/dist-packages (from mljar-supervised) (4.5.0)\n",
            "Requirement already satisfied: graphviz in /usr/local/lib/python3.9/dist-packages (from catboost>=0.24.4->mljar-supervised) (0.20.1)\n",
            "Requirement already satisfied: plotly in /usr/local/lib/python3.9/dist-packages (from catboost>=0.24.4->mljar-supervised) (5.13.1)\n",
            "Requirement already satisfied: six in /usr/local/lib/python3.9/dist-packages (from catboost>=0.24.4->mljar-supervised) (1.16.0)\n",
            "Requirement already satisfied: statsmodels>=0.9.0 in /usr/local/lib/python3.9/dist-packages (from category_encoders>=2.2.2->mljar-supervised) (0.13.5)\n",
            "Requirement already satisfied: patsy>=0.5.1 in /usr/local/lib/python3.9/dist-packages (from category_encoders>=2.2.2->mljar-supervised) (0.5.3)\n",
            "Collecting colour\n",
            "  Downloading colour-0.1.5-py2.py3-none-any.whl (23 kB)\n",
            "Requirement already satisfied: pytest in /usr/local/lib/python3.9/dist-packages (from dtreeviz>=2.0.0->mljar-supervised) (7.2.2)\n",
            "Requirement already satisfied: wheel in /usr/local/lib/python3.9/dist-packages (from lightgbm>=3.0.0->mljar-supervised) (0.40.0)\n",
            "Requirement already satisfied: contourpy>=1.0.1 in /usr/local/lib/python3.9/dist-packages (from matplotlib>=3.2.2->mljar-supervised) (1.0.7)\n",
            "Requirement already satisfied: importlib-resources>=3.2.0 in /usr/local/lib/python3.9/dist-packages (from matplotlib>=3.2.2->mljar-supervised) (5.12.0)\n",
            "Requirement already satisfied: kiwisolver>=1.0.1 in /usr/local/lib/python3.9/dist-packages (from matplotlib>=3.2.2->mljar-supervised) (1.4.4)\n",
            "Requirement already satisfied: cycler>=0.10 in /usr/local/lib/python3.9/dist-packages (from matplotlib>=3.2.2->mljar-supervised) (0.11.0)\n",
            "Requirement already satisfied: python-dateutil>=2.7 in /usr/local/lib/python3.9/dist-packages (from matplotlib>=3.2.2->mljar-supervised) (2.8.2)\n",
            "Requirement already satisfied: pyparsing>=2.3.1 in /usr/local/lib/python3.9/dist-packages (from matplotlib>=3.2.2->mljar-supervised) (3.0.9)\n",
            "Requirement already satisfied: fonttools>=4.22.0 in /usr/local/lib/python3.9/dist-packages (from matplotlib>=3.2.2->mljar-supervised) (4.39.3)\n",
            "Requirement already satisfied: pillow>=6.2.0 in /usr/local/lib/python3.9/dist-packages (from matplotlib>=3.2.2->mljar-supervised) (8.4.0)\n",
            "Requirement already satisfied: packaging>=20.0 in /usr/local/lib/python3.9/dist-packages (from matplotlib>=3.2.2->mljar-supervised) (23.0)\n",
            "Requirement already satisfied: PyYAML in /usr/local/lib/python3.9/dist-packages (from optuna>=2.7.0->mljar-supervised) (6.0)\n",
            "Collecting alembic>=1.5.0\n",
            "  Downloading alembic-1.10.3-py3-none-any.whl (212 kB)\n",
            "\u001b[2K     \u001b[90m━━━━━━━━━━━━━━━━━━━━━━━━━━━━━━━━━━━━━━\u001b[0m \u001b[32m212.3/212.3 KB\u001b[0m \u001b[31m13.7 MB/s\u001b[0m eta \u001b[36m0:00:00\u001b[0m\n",
            "\u001b[?25hRequirement already satisfied: sqlalchemy>=1.3.0 in /usr/local/lib/python3.9/dist-packages (from optuna>=2.7.0->mljar-supervised) (1.4.47)\n",
            "Collecting cmaes>=0.9.1\n",
            "  Downloading cmaes-0.9.1-py3-none-any.whl (21 kB)\n",
            "Collecting colorlog\n",
            "  Downloading colorlog-6.7.0-py2.py3-none-any.whl (11 kB)\n",
            "Requirement already satisfied: tqdm in /usr/local/lib/python3.9/dist-packages (from optuna>=2.7.0->mljar-supervised) (4.65.0)\n",
            "Requirement already satisfied: pytz>=2020.1 in /usr/local/lib/python3.9/dist-packages (from pandas>=1.2.0->mljar-supervised) (2022.7.1)\n",
            "Requirement already satisfied: threadpoolctl>=2.0.0 in /usr/local/lib/python3.9/dist-packages (from scikit-learn>=1.0->mljar-supervised) (3.1.0)\n",
            "Requirement already satisfied: cloudpickle in /usr/local/lib/python3.9/dist-packages (from shap>=0.36.0->mljar-supervised) (2.2.1)\n",
            "Collecting slicer==0.0.7\n",
            "  Downloading slicer-0.0.7-py3-none-any.whl (14 kB)\n",
            "Requirement already satisfied: numba in /usr/local/lib/python3.9/dist-packages (from shap>=0.36.0->mljar-supervised) (0.56.4)\n",
            "Requirement already satisfied: importlib-metadata>=4.4 in /usr/local/lib/python3.9/dist-packages (from markdown->mljar-supervised) (6.1.0)\n",
            "Collecting Mako\n",
            "  Downloading Mako-1.2.4-py3-none-any.whl (78 kB)\n",
            "\u001b[2K     \u001b[90m━━━━━━━━━━━━━━━━━━━━━━━━━━━━━━━━━━━━━━━━\u001b[0m \u001b[32m78.7/78.7 KB\u001b[0m \u001b[31m9.4 MB/s\u001b[0m eta \u001b[36m0:00:00\u001b[0m\n",
            "\u001b[?25hRequirement already satisfied: zipp>=0.5 in /usr/local/lib/python3.9/dist-packages (from importlib-metadata>=4.4->markdown->mljar-supervised) (3.15.0)\n",
            "Requirement already satisfied: greenlet!=0.4.17 in /usr/local/lib/python3.9/dist-packages (from sqlalchemy>=1.3.0->optuna>=2.7.0->mljar-supervised) (2.0.2)\n",
            "Requirement already satisfied: llvmlite<0.40,>=0.39.0dev0 in /usr/local/lib/python3.9/dist-packages (from numba->shap>=0.36.0->mljar-supervised) (0.39.1)\n",
            "Requirement already satisfied: setuptools in /usr/local/lib/python3.9/dist-packages (from numba->shap>=0.36.0->mljar-supervised) (67.6.1)\n",
            "Requirement already satisfied: tenacity>=6.2.0 in /usr/local/lib/python3.9/dist-packages (from plotly->catboost>=0.24.4->mljar-supervised) (8.2.2)\n",
            "Requirement already satisfied: attrs>=19.2.0 in /usr/local/lib/python3.9/dist-packages (from pytest->dtreeviz>=2.0.0->mljar-supervised) (22.2.0)\n",
            "Requirement already satisfied: iniconfig in /usr/local/lib/python3.9/dist-packages (from pytest->dtreeviz>=2.0.0->mljar-supervised) (2.0.0)\n",
            "Requirement already satisfied: pluggy<2.0,>=0.12 in /usr/local/lib/python3.9/dist-packages (from pytest->dtreeviz>=2.0.0->mljar-supervised) (1.0.0)\n",
            "Requirement already satisfied: tomli>=1.0.0 in /usr/local/lib/python3.9/dist-packages (from pytest->dtreeviz>=2.0.0->mljar-supervised) (2.0.1)\n",
            "Requirement already satisfied: exceptiongroup>=1.0.0rc8 in /usr/local/lib/python3.9/dist-packages (from pytest->dtreeviz>=2.0.0->mljar-supervised) (1.1.1)\n",
            "Requirement already satisfied: MarkupSafe>=0.9.2 in /usr/local/lib/python3.9/dist-packages (from Mako->alembic>=1.5.0->optuna>=2.7.0->mljar-supervised) (2.1.2)\n",
            "Building wheels for collected packages: mljar-supervised\n",
            "  Building wheel for mljar-supervised (setup.py) ... \u001b[?25l\u001b[?25hdone\n",
            "  Created wheel for mljar-supervised: filename=mljar_supervised-0.11.5-py3-none-any.whl size=147060 sha256=96a26bc52307d9986ae8482d9d5a612843ed2a87f393f409baec0c0be9a1c1b6\n",
            "  Stored in directory: /root/.cache/pip/wheels/62/ed/f2/9a70a649613cf977a8b1e39ce373d14290a135fa309c1f1638\n",
            "Successfully built mljar-supervised\n",
            "Installing collected packages: colour, slicer, Mako, colorlog, cmaes, alembic, shap, scikit-plot, optuna, dtreeviz, catboost, category_encoders, mljar-supervised\n",
            "Successfully installed Mako-1.2.4 alembic-1.10.3 catboost-1.1.1 category_encoders-2.6.0 cmaes-0.9.1 colorlog-6.7.0 colour-0.1.5 dtreeviz-2.2.0 mljar-supervised-0.11.5 optuna-3.1.1 scikit-plot-0.3.7 shap-0.41.0 slicer-0.0.7\n"
          ]
        }
      ]
    },
    {
      "cell_type": "code",
      "source": [
        "import pandas as pd\n",
        "import numpy as np\n",
        "import random\n",
        "import os\n",
        "from supervised.automl import AutoML\n",
        "import pandas as pd\n",
        "import numpy as np\n",
        "import random\n",
        "import os\n",
        "import gc\n",
        "\n",
        "from sklearn.ensemble import RandomForestClassifier\n",
        "from sklearn.preprocessing import LabelEncoder"
      ],
      "metadata": {
        "execution": {
          "iopub.status.busy": "2023-04-05T04:28:00.882712Z",
          "iopub.execute_input": "2023-04-05T04:28:00.883465Z",
          "iopub.status.idle": "2023-04-05T04:28:00.889612Z",
          "shell.execute_reply.started": "2023-04-05T04:28:00.883413Z",
          "shell.execute_reply": "2023-04-05T04:28:00.888478Z"
        },
        "trusted": true,
        "id": "Q54eGk6r9fxZ"
      },
      "execution_count": 2,
      "outputs": []
    },
    {
      "cell_type": "code",
      "source": [
        "def seed_everything(seed):\n",
        "    random.seed(seed)\n",
        "    os.environ['PYTHONHASHSEED'] = str(seed)\n",
        "    np.random.seed(seed)\n",
        "seed_everything(69) # 행운의 seed"
      ],
      "metadata": {
        "execution": {
          "iopub.status.busy": "2023-04-05T04:26:10.110418Z",
          "iopub.execute_input": "2023-04-05T04:26:10.110862Z",
          "iopub.status.idle": "2023-04-05T04:26:10.117285Z",
          "shell.execute_reply.started": "2023-04-05T04:26:10.110817Z",
          "shell.execute_reply": "2023-04-05T04:26:10.116094Z"
        },
        "trusted": true,
        "id": "M6EFs7M39fxa"
      },
      "execution_count": 3,
      "outputs": []
    },
    {
      "cell_type": "code",
      "source": [
        "from google.colab import drive\n",
        "drive.mount('/content/drive')"
      ],
      "metadata": {
        "colab": {
          "base_uri": "https://localhost:8080/"
        },
        "id": "-EkcD6VI-BLt",
        "outputId": "80d894ae-1253-43f5-c83d-a994f17a4729"
      },
      "execution_count": 4,
      "outputs": [
        {
          "output_type": "stream",
          "name": "stdout",
          "text": [
            "Mounted at /content/drive\n"
          ]
        }
      ]
    },
    {
      "cell_type": "code",
      "source": [
        "train = pd.read_csv('/content/drive/MyDrive/dacon/train.csv')\n",
        "test = pd.read_csv('/content/drive/MyDrive/dacon/test.csv')"
      ],
      "metadata": {
        "id": "hS5iC8CE9_Qu"
      },
      "execution_count": 5,
      "outputs": []
    },
    {
      "cell_type": "code",
      "source": [
        "train.head()"
      ],
      "metadata": {
        "colab": {
          "base_uri": "https://localhost:8080/",
          "height": 270
        },
        "id": "sMWxrJvT-aAF",
        "outputId": "01209d50-b458-42c4-8c29-7dfdbfbae5c3"
      },
      "execution_count": 6,
      "outputs": [
        {
          "output_type": "execute_result",
          "data": {
            "text/plain": [
              "           ID  Exercise_Duration  Body_Temperature(F)    BPM  Height(Feet)  \\\n",
              "0  TRAIN_0000               26.0                105.6  107.0           5.0   \n",
              "1  TRAIN_0001                7.0                103.3   88.0           6.0   \n",
              "2  TRAIN_0002                7.0                103.3   86.0           6.0   \n",
              "3  TRAIN_0003               17.0                104.0   99.0           5.0   \n",
              "4  TRAIN_0004                9.0                102.7   88.0           5.0   \n",
              "\n",
              "   Height(Remainder_Inches)  Weight(lb)  Weight_Status Gender  Age  \\\n",
              "0                       9.0       154.3  Normal Weight      F   45   \n",
              "1                       6.0       224.9     Overweight      M   50   \n",
              "2                       3.0       218.3     Overweight      M   29   \n",
              "3                       6.0       147.7  Normal Weight      F   33   \n",
              "4                      10.0       169.8  Normal Weight      M   38   \n",
              "\n",
              "   Calories_Burned  \n",
              "0            166.0  \n",
              "1             33.0  \n",
              "2             23.0  \n",
              "3             91.0  \n",
              "4             32.0  "
            ],
            "text/html": [
              "\n",
              "  <div id=\"df-50a73920-2918-48d8-9642-3c3df0edf1a2\">\n",
              "    <div class=\"colab-df-container\">\n",
              "      <div>\n",
              "<style scoped>\n",
              "    .dataframe tbody tr th:only-of-type {\n",
              "        vertical-align: middle;\n",
              "    }\n",
              "\n",
              "    .dataframe tbody tr th {\n",
              "        vertical-align: top;\n",
              "    }\n",
              "\n",
              "    .dataframe thead th {\n",
              "        text-align: right;\n",
              "    }\n",
              "</style>\n",
              "<table border=\"1\" class=\"dataframe\">\n",
              "  <thead>\n",
              "    <tr style=\"text-align: right;\">\n",
              "      <th></th>\n",
              "      <th>ID</th>\n",
              "      <th>Exercise_Duration</th>\n",
              "      <th>Body_Temperature(F)</th>\n",
              "      <th>BPM</th>\n",
              "      <th>Height(Feet)</th>\n",
              "      <th>Height(Remainder_Inches)</th>\n",
              "      <th>Weight(lb)</th>\n",
              "      <th>Weight_Status</th>\n",
              "      <th>Gender</th>\n",
              "      <th>Age</th>\n",
              "      <th>Calories_Burned</th>\n",
              "    </tr>\n",
              "  </thead>\n",
              "  <tbody>\n",
              "    <tr>\n",
              "      <th>0</th>\n",
              "      <td>TRAIN_0000</td>\n",
              "      <td>26.0</td>\n",
              "      <td>105.6</td>\n",
              "      <td>107.0</td>\n",
              "      <td>5.0</td>\n",
              "      <td>9.0</td>\n",
              "      <td>154.3</td>\n",
              "      <td>Normal Weight</td>\n",
              "      <td>F</td>\n",
              "      <td>45</td>\n",
              "      <td>166.0</td>\n",
              "    </tr>\n",
              "    <tr>\n",
              "      <th>1</th>\n",
              "      <td>TRAIN_0001</td>\n",
              "      <td>7.0</td>\n",
              "      <td>103.3</td>\n",
              "      <td>88.0</td>\n",
              "      <td>6.0</td>\n",
              "      <td>6.0</td>\n",
              "      <td>224.9</td>\n",
              "      <td>Overweight</td>\n",
              "      <td>M</td>\n",
              "      <td>50</td>\n",
              "      <td>33.0</td>\n",
              "    </tr>\n",
              "    <tr>\n",
              "      <th>2</th>\n",
              "      <td>TRAIN_0002</td>\n",
              "      <td>7.0</td>\n",
              "      <td>103.3</td>\n",
              "      <td>86.0</td>\n",
              "      <td>6.0</td>\n",
              "      <td>3.0</td>\n",
              "      <td>218.3</td>\n",
              "      <td>Overweight</td>\n",
              "      <td>M</td>\n",
              "      <td>29</td>\n",
              "      <td>23.0</td>\n",
              "    </tr>\n",
              "    <tr>\n",
              "      <th>3</th>\n",
              "      <td>TRAIN_0003</td>\n",
              "      <td>17.0</td>\n",
              "      <td>104.0</td>\n",
              "      <td>99.0</td>\n",
              "      <td>5.0</td>\n",
              "      <td>6.0</td>\n",
              "      <td>147.7</td>\n",
              "      <td>Normal Weight</td>\n",
              "      <td>F</td>\n",
              "      <td>33</td>\n",
              "      <td>91.0</td>\n",
              "    </tr>\n",
              "    <tr>\n",
              "      <th>4</th>\n",
              "      <td>TRAIN_0004</td>\n",
              "      <td>9.0</td>\n",
              "      <td>102.7</td>\n",
              "      <td>88.0</td>\n",
              "      <td>5.0</td>\n",
              "      <td>10.0</td>\n",
              "      <td>169.8</td>\n",
              "      <td>Normal Weight</td>\n",
              "      <td>M</td>\n",
              "      <td>38</td>\n",
              "      <td>32.0</td>\n",
              "    </tr>\n",
              "  </tbody>\n",
              "</table>\n",
              "</div>\n",
              "      <button class=\"colab-df-convert\" onclick=\"convertToInteractive('df-50a73920-2918-48d8-9642-3c3df0edf1a2')\"\n",
              "              title=\"Convert this dataframe to an interactive table.\"\n",
              "              style=\"display:none;\">\n",
              "        \n",
              "  <svg xmlns=\"http://www.w3.org/2000/svg\" height=\"24px\"viewBox=\"0 0 24 24\"\n",
              "       width=\"24px\">\n",
              "    <path d=\"M0 0h24v24H0V0z\" fill=\"none\"/>\n",
              "    <path d=\"M18.56 5.44l.94 2.06.94-2.06 2.06-.94-2.06-.94-.94-2.06-.94 2.06-2.06.94zm-11 1L8.5 8.5l.94-2.06 2.06-.94-2.06-.94L8.5 2.5l-.94 2.06-2.06.94zm10 10l.94 2.06.94-2.06 2.06-.94-2.06-.94-.94-2.06-.94 2.06-2.06.94z\"/><path d=\"M17.41 7.96l-1.37-1.37c-.4-.4-.92-.59-1.43-.59-.52 0-1.04.2-1.43.59L10.3 9.45l-7.72 7.72c-.78.78-.78 2.05 0 2.83L4 21.41c.39.39.9.59 1.41.59.51 0 1.02-.2 1.41-.59l7.78-7.78 2.81-2.81c.8-.78.8-2.07 0-2.86zM5.41 20L4 18.59l7.72-7.72 1.47 1.35L5.41 20z\"/>\n",
              "  </svg>\n",
              "      </button>\n",
              "      \n",
              "  <style>\n",
              "    .colab-df-container {\n",
              "      display:flex;\n",
              "      flex-wrap:wrap;\n",
              "      gap: 12px;\n",
              "    }\n",
              "\n",
              "    .colab-df-convert {\n",
              "      background-color: #E8F0FE;\n",
              "      border: none;\n",
              "      border-radius: 50%;\n",
              "      cursor: pointer;\n",
              "      display: none;\n",
              "      fill: #1967D2;\n",
              "      height: 32px;\n",
              "      padding: 0 0 0 0;\n",
              "      width: 32px;\n",
              "    }\n",
              "\n",
              "    .colab-df-convert:hover {\n",
              "      background-color: #E2EBFA;\n",
              "      box-shadow: 0px 1px 2px rgba(60, 64, 67, 0.3), 0px 1px 3px 1px rgba(60, 64, 67, 0.15);\n",
              "      fill: #174EA6;\n",
              "    }\n",
              "\n",
              "    [theme=dark] .colab-df-convert {\n",
              "      background-color: #3B4455;\n",
              "      fill: #D2E3FC;\n",
              "    }\n",
              "\n",
              "    [theme=dark] .colab-df-convert:hover {\n",
              "      background-color: #434B5C;\n",
              "      box-shadow: 0px 1px 3px 1px rgba(0, 0, 0, 0.15);\n",
              "      filter: drop-shadow(0px 1px 2px rgba(0, 0, 0, 0.3));\n",
              "      fill: #FFFFFF;\n",
              "    }\n",
              "  </style>\n",
              "\n",
              "      <script>\n",
              "        const buttonEl =\n",
              "          document.querySelector('#df-50a73920-2918-48d8-9642-3c3df0edf1a2 button.colab-df-convert');\n",
              "        buttonEl.style.display =\n",
              "          google.colab.kernel.accessAllowed ? 'block' : 'none';\n",
              "\n",
              "        async function convertToInteractive(key) {\n",
              "          const element = document.querySelector('#df-50a73920-2918-48d8-9642-3c3df0edf1a2');\n",
              "          const dataTable =\n",
              "            await google.colab.kernel.invokeFunction('convertToInteractive',\n",
              "                                                     [key], {});\n",
              "          if (!dataTable) return;\n",
              "\n",
              "          const docLinkHtml = 'Like what you see? Visit the ' +\n",
              "            '<a target=\"_blank\" href=https://colab.research.google.com/notebooks/data_table.ipynb>data table notebook</a>'\n",
              "            + ' to learn more about interactive tables.';\n",
              "          element.innerHTML = '';\n",
              "          dataTable['output_type'] = 'display_data';\n",
              "          await google.colab.output.renderOutput(dataTable, element);\n",
              "          const docLink = document.createElement('div');\n",
              "          docLink.innerHTML = docLinkHtml;\n",
              "          element.appendChild(docLink);\n",
              "        }\n",
              "      </script>\n",
              "    </div>\n",
              "  </div>\n",
              "  "
            ]
          },
          "metadata": {},
          "execution_count": 6
        }
      ]
    },
    {
      "cell_type": "code",
      "source": [
        "# 독립변수로 설정할 train_x에서는 종속변수를 제거합니다. 또한 분석에 활용하지 않는 ID 데이터를 제거합니다.\n",
        "train_x = train.drop(['ID', 'Calories_Burned'], axis = 1)\n",
        "# train_y 변수를 종속변수로 사용하기 위해 Calories_Burned 데이터를 지정하였습니다.\n",
        "train_y = train['Calories_Burned']\n",
        "\n",
        "# train_x 데이터와 마찬가지로 분석에 활용하지 않는 ID 데이터를 제거합니다.\n",
        "test_x = test.drop('ID', axis = 1)"
      ],
      "metadata": {
        "id": "uvs4Tdrb-aCC"
      },
      "execution_count": 7,
      "outputs": []
    },
    {
      "cell_type": "code",
      "source": [
        "ordinal_features = ['Weight_Status', 'Gender']\n",
        "\n",
        "for feature in ordinal_features:\n",
        "    le = LabelEncoder()\n",
        "    le = le.fit(train_x[feature])\n",
        "    train_x[feature] = le.transform(train_x[feature])\n",
        "\n",
        "    # train데이터에서 존재하지 않았던 값이 test 데이터에 존재할 수도 있습니다.\n",
        "    # 따라서 test 데이터를 바로 변형시키지 않고 고윳값을 확인후 test 데이터를 변환합니다.\n",
        "    for label in np.unique(test_x[feature]):\n",
        "        if label not in le.classes_:\n",
        "            le.classes_ = np.append(le.classes_, label)\n",
        "    test_x[feature] = le.transform(test_x[feature])"
      ],
      "metadata": {
        "id": "dmvWF8ys-aD-"
      },
      "execution_count": 8,
      "outputs": []
    },
    {
      "cell_type": "code",
      "source": [
        "automl = AutoML(mode=\"Compete\", eval_metric='rmse')"
      ],
      "metadata": {
        "id": "M-F3Dcvo-aGM"
      },
      "execution_count": 9,
      "outputs": []
    },
    {
      "cell_type": "code",
      "source": [
        "automl"
      ],
      "metadata": {
        "colab": {
          "base_uri": "https://localhost:8080/",
          "height": 75
        },
        "id": "y5LxfSJP_Ejz",
        "outputId": "0312dac8-a4cb-40c6-dc55-f39130e5ad21"
      },
      "execution_count": 10,
      "outputs": [
        {
          "output_type": "execute_result",
          "data": {
            "text/plain": [
              "AutoML(eval_metric='rmse', mode='Compete')"
            ],
            "text/html": [
              "<style>#sk-container-id-1 {color: black;background-color: white;}#sk-container-id-1 pre{padding: 0;}#sk-container-id-1 div.sk-toggleable {background-color: white;}#sk-container-id-1 label.sk-toggleable__label {cursor: pointer;display: block;width: 100%;margin-bottom: 0;padding: 0.3em;box-sizing: border-box;text-align: center;}#sk-container-id-1 label.sk-toggleable__label-arrow:before {content: \"▸\";float: left;margin-right: 0.25em;color: #696969;}#sk-container-id-1 label.sk-toggleable__label-arrow:hover:before {color: black;}#sk-container-id-1 div.sk-estimator:hover label.sk-toggleable__label-arrow:before {color: black;}#sk-container-id-1 div.sk-toggleable__content {max-height: 0;max-width: 0;overflow: hidden;text-align: left;background-color: #f0f8ff;}#sk-container-id-1 div.sk-toggleable__content pre {margin: 0.2em;color: black;border-radius: 0.25em;background-color: #f0f8ff;}#sk-container-id-1 input.sk-toggleable__control:checked~div.sk-toggleable__content {max-height: 200px;max-width: 100%;overflow: auto;}#sk-container-id-1 input.sk-toggleable__control:checked~label.sk-toggleable__label-arrow:before {content: \"▾\";}#sk-container-id-1 div.sk-estimator input.sk-toggleable__control:checked~label.sk-toggleable__label {background-color: #d4ebff;}#sk-container-id-1 div.sk-label input.sk-toggleable__control:checked~label.sk-toggleable__label {background-color: #d4ebff;}#sk-container-id-1 input.sk-hidden--visually {border: 0;clip: rect(1px 1px 1px 1px);clip: rect(1px, 1px, 1px, 1px);height: 1px;margin: -1px;overflow: hidden;padding: 0;position: absolute;width: 1px;}#sk-container-id-1 div.sk-estimator {font-family: monospace;background-color: #f0f8ff;border: 1px dotted black;border-radius: 0.25em;box-sizing: border-box;margin-bottom: 0.5em;}#sk-container-id-1 div.sk-estimator:hover {background-color: #d4ebff;}#sk-container-id-1 div.sk-parallel-item::after {content: \"\";width: 100%;border-bottom: 1px solid gray;flex-grow: 1;}#sk-container-id-1 div.sk-label:hover label.sk-toggleable__label {background-color: #d4ebff;}#sk-container-id-1 div.sk-serial::before {content: \"\";position: absolute;border-left: 1px solid gray;box-sizing: border-box;top: 0;bottom: 0;left: 50%;z-index: 0;}#sk-container-id-1 div.sk-serial {display: flex;flex-direction: column;align-items: center;background-color: white;padding-right: 0.2em;padding-left: 0.2em;position: relative;}#sk-container-id-1 div.sk-item {position: relative;z-index: 1;}#sk-container-id-1 div.sk-parallel {display: flex;align-items: stretch;justify-content: center;background-color: white;position: relative;}#sk-container-id-1 div.sk-item::before, #sk-container-id-1 div.sk-parallel-item::before {content: \"\";position: absolute;border-left: 1px solid gray;box-sizing: border-box;top: 0;bottom: 0;left: 50%;z-index: -1;}#sk-container-id-1 div.sk-parallel-item {display: flex;flex-direction: column;z-index: 1;position: relative;background-color: white;}#sk-container-id-1 div.sk-parallel-item:first-child::after {align-self: flex-end;width: 50%;}#sk-container-id-1 div.sk-parallel-item:last-child::after {align-self: flex-start;width: 50%;}#sk-container-id-1 div.sk-parallel-item:only-child::after {width: 0;}#sk-container-id-1 div.sk-dashed-wrapped {border: 1px dashed gray;margin: 0 0.4em 0.5em 0.4em;box-sizing: border-box;padding-bottom: 0.4em;background-color: white;}#sk-container-id-1 div.sk-label label {font-family: monospace;font-weight: bold;display: inline-block;line-height: 1.2em;}#sk-container-id-1 div.sk-label-container {text-align: center;}#sk-container-id-1 div.sk-container {/* jupyter's `normalize.less` sets `[hidden] { display: none; }` but bootstrap.min.css set `[hidden] { display: none !important; }` so we also need the `!important` here to be able to override the default hidden behavior on the sphinx rendered scikit-learn.org. See: https://github.com/scikit-learn/scikit-learn/issues/21755 */display: inline-block !important;position: relative;}#sk-container-id-1 div.sk-text-repr-fallback {display: none;}</style><div id=\"sk-container-id-1\" class=\"sk-top-container\"><div class=\"sk-text-repr-fallback\"><pre>AutoML(eval_metric=&#x27;rmse&#x27;, mode=&#x27;Compete&#x27;)</pre><b>In a Jupyter environment, please rerun this cell to show the HTML representation or trust the notebook. <br />On GitHub, the HTML representation is unable to render, please try loading this page with nbviewer.org.</b></div><div class=\"sk-container\" hidden><div class=\"sk-item\"><div class=\"sk-estimator sk-toggleable\"><input class=\"sk-toggleable__control sk-hidden--visually\" id=\"sk-estimator-id-1\" type=\"checkbox\" checked><label for=\"sk-estimator-id-1\" class=\"sk-toggleable__label sk-toggleable__label-arrow\">AutoML</label><div class=\"sk-toggleable__content\"><pre>AutoML(eval_metric=&#x27;rmse&#x27;, mode=&#x27;Compete&#x27;)</pre></div></div></div></div></div>"
            ]
          },
          "metadata": {},
          "execution_count": 10
        }
      ]
    },
    {
      "cell_type": "code",
      "source": [
        "automl.fit(train_x, train_y)"
      ],
      "metadata": {
        "execution": {
          "iopub.status.busy": "2023-04-05T04:31:32.048749Z",
          "iopub.execute_input": "2023-04-05T04:31:32.049476Z",
          "iopub.status.idle": "2023-04-05T05:33:47.585029Z",
          "shell.execute_reply.started": "2023-04-05T04:31:32.049424Z",
          "shell.execute_reply": "2023-04-05T05:33:47.583885Z"
        },
        "trusted": true,
        "colab": {
          "base_uri": "https://localhost:8080/",
          "height": 1000
        },
        "id": "_lqzJphT9fxd",
        "outputId": "c4f3c5af-299a-4023-caed-3c45a072b949"
      },
      "execution_count": 11,
      "outputs": [
        {
          "output_type": "stream",
          "name": "stdout",
          "text": [
            "AutoML directory: AutoML_1\n",
            "The task is regression with evaluation metric rmse\n",
            "AutoML will use algorithms: ['Decision Tree', 'Linear', 'Random Forest', 'Extra Trees', 'LightGBM', 'Xgboost', 'CatBoost', 'Neural Network', 'Nearest Neighbors']\n",
            "AutoML will stack models\n",
            "AutoML will ensemble available models\n",
            "AutoML steps: ['adjust_validation', 'simple_algorithms', 'default_algorithms', 'not_so_random', 'golden_features', 'kmeans_features', 'insert_random_feature', 'features_selection', 'hill_climbing_1', 'hill_climbing_2', 'boost_on_errors', 'ensemble', 'stack', 'ensemble_stacked']\n",
            "* Step adjust_validation will try to check up to 1 model\n",
            "1_DecisionTree rmse 18.473263 trained in 0.53 seconds\n",
            "Adjust validation. Remove: 1_DecisionTree\n",
            "Validation strategy: 10-fold CV Shuffle\n",
            "* Step simple_algorithms will try to check up to 4 models\n",
            "1_DecisionTree rmse 17.550584 trained in 2.26 seconds\n",
            "2_DecisionTree rmse 15.165529 trained in 2.76 seconds\n",
            "3_DecisionTree rmse 15.165529 trained in 2.18 seconds\n",
            "4_Linear rmse 11.297961 trained in 3.33 seconds\n",
            "* Step default_algorithms will try to check up to 7 models\n",
            "5_Default_LightGBM rmse 1.760322 trained in 62.58 seconds\n",
            "6_Default_Xgboost rmse 1.758462 trained in 26.73 seconds\n",
            "7_Default_CatBoost rmse 0.754637 trained in 58.21 seconds\n",
            "8_Default_NeuralNetwork rmse 1.343689 trained in 12.78 seconds\n",
            "9_Default_RandomForest rmse 12.315735 trained in 13.78 seconds\n",
            "10_Default_ExtraTrees rmse 13.283824 trained in 13.32 seconds\n",
            "There was an error during 11_Default_NearestNeighbors training.\n",
            "Please check AutoML_1/errors.md for details.\n",
            "* Step not_so_random will try to check up to 63 models\n",
            "20_LightGBM rmse 1.708816 trained in 32.23 seconds\n",
            "11_Xgboost rmse 2.066573 trained in 16.97 seconds\n",
            "29_CatBoost rmse 0.930124 trained in 112.41 seconds\n",
            "38_RandomForest rmse 11.868324 trained in 11.12 seconds\n",
            "47_ExtraTrees rmse 16.831295 trained in 14.09 seconds\n",
            "56_NeuralNetwork rmse 1.341874 trained in 8.66 seconds\n",
            "There was an error during 65_NearestNeighbors training.\n",
            "Please check AutoML_1/errors.md for details.\n",
            "21_LightGBM rmse 2.183909 trained in 30.34 seconds\n",
            "12_Xgboost rmse 2.267819 trained in 17.86 seconds\n",
            "30_CatBoost rmse 1.241518 trained in 44.78 seconds\n",
            "39_RandomForest rmse 14.685673 trained in 18.91 seconds\n",
            "48_ExtraTrees rmse 16.536138 trained in 12.67 seconds\n",
            "57_NeuralNetwork rmse 1.455391 trained in 13.69 seconds\n",
            "There was an error during 66_NearestNeighbors training.\n",
            "Please check AutoML_1/errors.md for details.\n",
            "22_LightGBM rmse 1.87018 trained in 40.66 seconds\n",
            "13_Xgboost rmse 2.156323 trained in 44.63 seconds\n",
            "31_CatBoost rmse 0.865582 trained in 57.3 seconds\n",
            "40_RandomForest rmse 7.786639 trained in 23.91 seconds\n",
            "49_ExtraTrees rmse 9.041127 trained in 19.12 seconds\n",
            "58_NeuralNetwork rmse 1.692934 trained in 21.65 seconds\n",
            "There was an error during 67_NearestNeighbors training.\n",
            "Please check AutoML_1/errors.md for details.\n",
            "23_LightGBM rmse 1.961855 trained in 48.64 seconds\n",
            "14_Xgboost rmse 2.196679 trained in 21.95 seconds\n",
            "32_CatBoost rmse 1.514656 trained in 30.59 seconds\n",
            "41_RandomForest rmse 7.766995 trained in 17.68 seconds\n",
            "50_ExtraTrees rmse 10.432454 trained in 23.01 seconds\n",
            "59_NeuralNetwork rmse 1.202416 trained in 16.86 seconds\n",
            "There was an error during 68_NearestNeighbors training.\n",
            "Please check AutoML_1/errors.md for details.\n",
            "24_LightGBM rmse 2.411946 trained in 37.0 seconds\n",
            "15_Xgboost rmse 1.933062 trained in 26.33 seconds\n",
            "33_CatBoost rmse 1.021094 trained in 59.57 seconds\n",
            "42_RandomForest rmse 6.305807 trained in 24.72 seconds\n",
            "51_ExtraTrees rmse 8.471515 trained in 17.97 seconds\n",
            "60_NeuralNetwork rmse 1.358931 trained in 16.75 seconds\n",
            "There was an error during 69_NearestNeighbors training.\n",
            "Please check AutoML_1/errors.md for details.\n",
            "25_LightGBM rmse 2.54134 trained in 109.27 seconds\n",
            "16_Xgboost rmse 1.624807 trained in 23.36 seconds\n",
            "34_CatBoost rmse 0.971187 trained in 61.42 seconds\n",
            "43_RandomForest rmse 6.535074 trained in 24.75 seconds\n",
            "52_ExtraTrees rmse 7.56196 trained in 17.24 seconds\n",
            "61_NeuralNetwork rmse 20.066037 trained in 13.9 seconds\n",
            "There was an error during 70_NearestNeighbors training.\n",
            "Please check AutoML_1/errors.md for details.\n",
            "26_LightGBM rmse 1.9533 trained in 51.38 seconds\n",
            "17_Xgboost rmse 1.772109 trained in 30.5 seconds\n",
            "35_CatBoost rmse 0.958217 trained in 172.63 seconds\n",
            "44_RandomForest rmse 11.880102 trained in 19.6 seconds\n",
            "53_ExtraTrees rmse 13.9861 trained in 18.13 seconds\n",
            "62_NeuralNetwork rmse 1.754488 trained in 18.62 seconds\n",
            "There was an error during 71_NearestNeighbors training.\n",
            "Please check AutoML_1/errors.md for details.\n",
            "27_LightGBM rmse 1.554691 trained in 41.66 seconds\n",
            "18_Xgboost rmse 2.136342 trained in 20.54 seconds\n",
            "36_CatBoost rmse 1.057867 trained in 58.07 seconds\n",
            "* Step golden_features will try to check up to 3 models\n",
            "None 10\n",
            "Add Golden Feature: BPM_multiply_Exercise_Duration\n",
            "Add Golden Feature: BPM_sum_Exercise_Duration\n",
            "Add Golden Feature: Gender_sum_Exercise_Duration\n",
            "Add Golden Feature: Weight_Status_sum_Exercise_Duration\n",
            "Add Golden Feature: Exercise_Duration_ratio_Body_Temperature(F)\n",
            "Add Golden Feature: Body_Temperature(F)_ratio_Exercise_Duration\n",
            "Add Golden Feature: Height(Feet)_sum_Exercise_Duration\n",
            "Add Golden Feature: Body_Temperature(F)_sum_Exercise_Duration\n",
            "Add Golden Feature: Body_Temperature(F)_multiply_Exercise_Duration\n",
            "Add Golden Feature: Exercise_Duration_diff_Body_Temperature(F)\n",
            "Created 10 Golden Features in 7.7 seconds.\n",
            "7_Default_CatBoost_GoldenFeatures rmse 0.895043 trained in 159.58 seconds\n",
            "* Step kmeans_features will try to check up to 3 models\n"
          ]
        },
        {
          "output_type": "stream",
          "name": "stderr",
          "text": [
            "/usr/local/lib/python3.9/dist-packages/sklearn/cluster/_kmeans.py:870: FutureWarning: The default value of `n_init` will change from 3 to 'auto' in 1.4. Set the value of `n_init` explicitly to suppress the warning\n",
            "/usr/local/lib/python3.9/dist-packages/sklearn/cluster/_kmeans.py:870: FutureWarning: The default value of `n_init` will change from 3 to 'auto' in 1.4. Set the value of `n_init` explicitly to suppress the warning\n",
            "/usr/local/lib/python3.9/dist-packages/sklearn/cluster/_kmeans.py:870: FutureWarning: The default value of `n_init` will change from 3 to 'auto' in 1.4. Set the value of `n_init` explicitly to suppress the warning\n",
            "/usr/local/lib/python3.9/dist-packages/sklearn/cluster/_kmeans.py:870: FutureWarning: The default value of `n_init` will change from 3 to 'auto' in 1.4. Set the value of `n_init` explicitly to suppress the warning\n",
            "/usr/local/lib/python3.9/dist-packages/sklearn/cluster/_kmeans.py:870: FutureWarning: The default value of `n_init` will change from 3 to 'auto' in 1.4. Set the value of `n_init` explicitly to suppress the warning\n",
            "/usr/local/lib/python3.9/dist-packages/sklearn/cluster/_kmeans.py:870: FutureWarning: The default value of `n_init` will change from 3 to 'auto' in 1.4. Set the value of `n_init` explicitly to suppress the warning\n",
            "/usr/local/lib/python3.9/dist-packages/sklearn/cluster/_kmeans.py:870: FutureWarning: The default value of `n_init` will change from 3 to 'auto' in 1.4. Set the value of `n_init` explicitly to suppress the warning\n",
            "/usr/local/lib/python3.9/dist-packages/sklearn/cluster/_kmeans.py:870: FutureWarning: The default value of `n_init` will change from 3 to 'auto' in 1.4. Set the value of `n_init` explicitly to suppress the warning\n",
            "/usr/local/lib/python3.9/dist-packages/sklearn/cluster/_kmeans.py:870: FutureWarning: The default value of `n_init` will change from 3 to 'auto' in 1.4. Set the value of `n_init` explicitly to suppress the warning\n",
            "/usr/local/lib/python3.9/dist-packages/sklearn/cluster/_kmeans.py:870: FutureWarning: The default value of `n_init` will change from 3 to 'auto' in 1.4. Set the value of `n_init` explicitly to suppress the warning\n"
          ]
        },
        {
          "output_type": "stream",
          "name": "stdout",
          "text": [
            "7_Default_CatBoost_KMeansFeatures rmse 1.120941 trained in 137.65 seconds\n",
            "* Step insert_random_feature will try to check up to 1 model\n",
            "7_Default_CatBoost_RandomFeature rmse 0.850103 trained in 66.45 seconds\n",
            "Drop features ['random_feature']\n",
            "Skip features_selection because no parameters were generated.\n",
            "* Step hill_climbing_1 will try to check up to 27 models\n",
            "63_CatBoost rmse 0.720649 trained in 97.31 seconds\n",
            "64_CatBoost rmse 0.858608 trained in 45.0 seconds\n",
            "65_CatBoost rmse 0.834068 trained in 99.26 seconds\n",
            "66_CatBoost rmse 0.954394 trained in 40.89 seconds\n",
            "67_CatBoost_GoldenFeatures rmse 0.810186 trained in 260.77 seconds\n",
            "* Step hill_climbing_2 will try to check up to 28 models\n",
            "68_CatBoost rmse 0.678723 trained in 108.23 seconds\n",
            "69_CatBoost rmse 0.793759 trained in 102.9 seconds\n",
            "* Step boost_on_errors will try to check up to 1 model\n",
            "68_CatBoost_BoostOnErrors rmse 0.68629 trained in 112.5 seconds\n",
            "* Step ensemble will try to check up to 1 model\n",
            "Ensemble rmse 0.585319 trained in 11.39 seconds\n",
            "* Step stack will try to check up to 51 models\n",
            "68_CatBoost_Stacked not trained. Stop training after the first fold. Time needed to train on the first fold 51.0 seconds. The time estimate for training on all folds is larger than total_time_limit.\n",
            "59_NeuralNetwork_Stacked rmse 20.277122 trained in 27.89 seconds\n",
            "27_LightGBM_Stacked rmse 1.050426 trained in 22.21 seconds\n",
            "16_Xgboost_Stacked rmse 1.03643 trained in 19.82 seconds\n",
            "42_RandomForest_Stacked rmse 0.858367 trained in 163.55 seconds\n",
            "52_ExtraTrees_Stacked rmse 0.893727 trained in 42.11 seconds\n",
            "63_CatBoost_Stacked not trained. Stop training after the first fold. Time needed to train on the first fold 30.0 seconds. The time estimate for training on all folds is larger than total_time_limit.\n",
            "56_NeuralNetwork_Stacked rmse 62.84759 trained in 18.32 seconds\n",
            "20_LightGBM_Stacked rmse 1.213769 trained in 25.69 seconds\n",
            "6_Default_Xgboost_Stacked rmse 1.053895 trained in 29.06 seconds\n",
            "43_RandomForest_Stacked not trained. Stop training after the first fold. Time needed to train on the first fold 13.0 seconds. The time estimate for training on all folds is larger than total_time_limit.\n",
            "51_ExtraTrees_Stacked rmse 0.751879 trained in 42.77 seconds\n",
            "7_Default_CatBoost_Stacked not trained. Stop training after the first fold. Time needed to train on the first fold 42.0 seconds. The time estimate for training on all folds is larger than total_time_limit.\n",
            "* Step ensemble_stacked will try to check up to 1 model\n",
            "Ensemble_Stacked rmse 0.585285 trained in 15.11 seconds\n",
            "AutoML fit time: 3666.13 seconds\n",
            "AutoML best model: Ensemble_Stacked\n"
          ]
        },
        {
          "output_type": "execute_result",
          "data": {
            "text/plain": [
              "AutoML(eval_metric='rmse', mode='Compete')"
            ],
            "text/html": [
              "<style>#sk-container-id-2 {color: black;background-color: white;}#sk-container-id-2 pre{padding: 0;}#sk-container-id-2 div.sk-toggleable {background-color: white;}#sk-container-id-2 label.sk-toggleable__label {cursor: pointer;display: block;width: 100%;margin-bottom: 0;padding: 0.3em;box-sizing: border-box;text-align: center;}#sk-container-id-2 label.sk-toggleable__label-arrow:before {content: \"▸\";float: left;margin-right: 0.25em;color: #696969;}#sk-container-id-2 label.sk-toggleable__label-arrow:hover:before {color: black;}#sk-container-id-2 div.sk-estimator:hover label.sk-toggleable__label-arrow:before {color: black;}#sk-container-id-2 div.sk-toggleable__content {max-height: 0;max-width: 0;overflow: hidden;text-align: left;background-color: #f0f8ff;}#sk-container-id-2 div.sk-toggleable__content pre {margin: 0.2em;color: black;border-radius: 0.25em;background-color: #f0f8ff;}#sk-container-id-2 input.sk-toggleable__control:checked~div.sk-toggleable__content {max-height: 200px;max-width: 100%;overflow: auto;}#sk-container-id-2 input.sk-toggleable__control:checked~label.sk-toggleable__label-arrow:before {content: \"▾\";}#sk-container-id-2 div.sk-estimator input.sk-toggleable__control:checked~label.sk-toggleable__label {background-color: #d4ebff;}#sk-container-id-2 div.sk-label input.sk-toggleable__control:checked~label.sk-toggleable__label {background-color: #d4ebff;}#sk-container-id-2 input.sk-hidden--visually {border: 0;clip: rect(1px 1px 1px 1px);clip: rect(1px, 1px, 1px, 1px);height: 1px;margin: -1px;overflow: hidden;padding: 0;position: absolute;width: 1px;}#sk-container-id-2 div.sk-estimator {font-family: monospace;background-color: #f0f8ff;border: 1px dotted black;border-radius: 0.25em;box-sizing: border-box;margin-bottom: 0.5em;}#sk-container-id-2 div.sk-estimator:hover {background-color: #d4ebff;}#sk-container-id-2 div.sk-parallel-item::after {content: \"\";width: 100%;border-bottom: 1px solid gray;flex-grow: 1;}#sk-container-id-2 div.sk-label:hover label.sk-toggleable__label {background-color: #d4ebff;}#sk-container-id-2 div.sk-serial::before {content: \"\";position: absolute;border-left: 1px solid gray;box-sizing: border-box;top: 0;bottom: 0;left: 50%;z-index: 0;}#sk-container-id-2 div.sk-serial {display: flex;flex-direction: column;align-items: center;background-color: white;padding-right: 0.2em;padding-left: 0.2em;position: relative;}#sk-container-id-2 div.sk-item {position: relative;z-index: 1;}#sk-container-id-2 div.sk-parallel {display: flex;align-items: stretch;justify-content: center;background-color: white;position: relative;}#sk-container-id-2 div.sk-item::before, #sk-container-id-2 div.sk-parallel-item::before {content: \"\";position: absolute;border-left: 1px solid gray;box-sizing: border-box;top: 0;bottom: 0;left: 50%;z-index: -1;}#sk-container-id-2 div.sk-parallel-item {display: flex;flex-direction: column;z-index: 1;position: relative;background-color: white;}#sk-container-id-2 div.sk-parallel-item:first-child::after {align-self: flex-end;width: 50%;}#sk-container-id-2 div.sk-parallel-item:last-child::after {align-self: flex-start;width: 50%;}#sk-container-id-2 div.sk-parallel-item:only-child::after {width: 0;}#sk-container-id-2 div.sk-dashed-wrapped {border: 1px dashed gray;margin: 0 0.4em 0.5em 0.4em;box-sizing: border-box;padding-bottom: 0.4em;background-color: white;}#sk-container-id-2 div.sk-label label {font-family: monospace;font-weight: bold;display: inline-block;line-height: 1.2em;}#sk-container-id-2 div.sk-label-container {text-align: center;}#sk-container-id-2 div.sk-container {/* jupyter's `normalize.less` sets `[hidden] { display: none; }` but bootstrap.min.css set `[hidden] { display: none !important; }` so we also need the `!important` here to be able to override the default hidden behavior on the sphinx rendered scikit-learn.org. See: https://github.com/scikit-learn/scikit-learn/issues/21755 */display: inline-block !important;position: relative;}#sk-container-id-2 div.sk-text-repr-fallback {display: none;}</style><div id=\"sk-container-id-2\" class=\"sk-top-container\"><div class=\"sk-text-repr-fallback\"><pre>AutoML(eval_metric=&#x27;rmse&#x27;, mode=&#x27;Compete&#x27;)</pre><b>In a Jupyter environment, please rerun this cell to show the HTML representation or trust the notebook. <br />On GitHub, the HTML representation is unable to render, please try loading this page with nbviewer.org.</b></div><div class=\"sk-container\" hidden><div class=\"sk-item\"><div class=\"sk-estimator sk-toggleable\"><input class=\"sk-toggleable__control sk-hidden--visually\" id=\"sk-estimator-id-2\" type=\"checkbox\" checked><label for=\"sk-estimator-id-2\" class=\"sk-toggleable__label sk-toggleable__label-arrow\">AutoML</label><div class=\"sk-toggleable__content\"><pre>AutoML(eval_metric=&#x27;rmse&#x27;, mode=&#x27;Compete&#x27;)</pre></div></div></div></div></div>"
            ]
          },
          "metadata": {},
          "execution_count": 11
        }
      ]
    },
    {
      "cell_type": "code",
      "source": [
        "preds = automl.predict(test_x)"
      ],
      "metadata": {
        "execution": {
          "iopub.status.busy": "2023-04-05T05:38:04.268291Z",
          "iopub.execute_input": "2023-04-05T05:38:04.268713Z",
          "iopub.status.idle": "2023-04-05T06:20:25.857616Z",
          "shell.execute_reply.started": "2023-04-05T05:38:04.268672Z",
          "shell.execute_reply": "2023-04-05T06:20:25.856434Z"
        },
        "trusted": true,
        "id": "EKU-aumD9fxd"
      },
      "execution_count": null,
      "outputs": []
    },
    {
      "cell_type": "code",
      "source": [
        "submission = pd.read_csv('/content/drive/MyDrive/dacon/sample_submission.csv')"
      ],
      "metadata": {
        "id": "WrDxm-0l_c4Z"
      },
      "execution_count": null,
      "outputs": []
    },
    {
      "cell_type": "code",
      "source": [
        "submission['Calories_Burned'] = preds"
      ],
      "metadata": {
        "id": "ZtyMZKko_c6q"
      },
      "execution_count": null,
      "outputs": []
    },
    {
      "cell_type": "code",
      "source": [
        "submission.to_csv('./submit.csv', index = False)"
      ],
      "metadata": {
        "execution": {
          "iopub.status.busy": "2023-04-05T06:35:21.201388Z",
          "iopub.execute_input": "2023-04-05T06:35:21.202229Z",
          "iopub.status.idle": "2023-04-05T06:35:24.646198Z",
          "shell.execute_reply.started": "2023-04-05T06:35:21.202180Z",
          "shell.execute_reply": "2023-04-05T06:35:24.645292Z"
        },
        "trusted": true,
        "id": "GEoylYpJ9fxd"
      },
      "execution_count": null,
      "outputs": []
    },
    {
      "cell_type": "code",
      "source": [],
      "metadata": {
        "id": "r8UO-tsq9fxd"
      },
      "execution_count": null,
      "outputs": []
    }
  ]
}