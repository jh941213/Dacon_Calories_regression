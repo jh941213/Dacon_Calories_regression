{
  "metadata": {
    "kernelspec": {
      "language": "python",
      "display_name": "Python 3",
      "name": "python3"
    },
    "language_info": {
      "name": "python",
      "version": "3.7.12",
      "mimetype": "text/x-python",
      "codemirror_mode": {
        "name": "ipython",
        "version": 3
      },
      "pygments_lexer": "ipython3",
      "nbconvert_exporter": "python",
      "file_extension": ".py"
    },
    "colab": {
      "provenance": []
    },
    "accelerator": "GPU",
    "gpuClass": "standard"
  },
  "nbformat_minor": 0,
  "nbformat": 4,
  "cells": [
    {
      "cell_type": "code",
      "source": [
        "import random\n",
        "import os\n",
        "import numpy as np\n",
        "import pandas as pd\n",
        "import numpy as np \n",
        "import pandas as pd \n",
        "import tensorflow as tf\n",
        "\n",
        "from tensorflow import keras\n",
        "from tensorflow.keras import layers, callbacks\n",
        "from sklearn.model_selection import train_test_split\n",
        "from sklearn.pipeline import make_pipeline\n",
        "from sklearn.preprocessing import StandardScaler\n",
        "from matplotlib import pyplot as plt \n",
        "\n",
        "\n",
        "def seed_everything(seed):\n",
        "    random.seed(seed)\n",
        "    os.environ['PYTHONHASHSEED'] = str(seed)\n",
        "    np.random.seed(seed)\n",
        "seed_everything(42) # 행운의 seed"
      ],
      "metadata": {
        "id": "M6EFs7M39fxa",
        "trusted": true
      },
      "execution_count": 10,
      "outputs": []
    },
    {
      "cell_type": "code",
      "source": [
        "train = pd.read_csv('/content/train.csv')\n",
        "test = pd.read_csv('/content/test.csv')"
      ],
      "metadata": {
        "id": "hS5iC8CE9_Qu",
        "trusted": true
      },
      "execution_count": 5,
      "outputs": []
    },
    {
      "cell_type": "code",
      "source": [
        "train"
      ],
      "metadata": {
        "colab": {
          "base_uri": "https://localhost:8080/",
          "height": 488
        },
        "id": "KljrPsvzHCSw",
        "outputId": "b9261281-55d9-45d6-9716-b43493ac44fc"
      },
      "execution_count": 6,
      "outputs": [
        {
          "output_type": "execute_result",
          "data": {
            "text/plain": [
              "              ID  Exercise_Duration  Body_Temperature(F)    BPM  Height(Feet)  \\\n",
              "0     TRAIN_0000               26.0                105.6  107.0           5.0   \n",
              "1     TRAIN_0001                7.0                103.3   88.0           6.0   \n",
              "2     TRAIN_0002                7.0                103.3   86.0           6.0   \n",
              "3     TRAIN_0003               17.0                104.0   99.0           5.0   \n",
              "4     TRAIN_0004                9.0                102.7   88.0           5.0   \n",
              "...          ...                ...                  ...    ...           ...   \n",
              "7495  TRAIN_7495               22.0                105.1  104.0           4.0   \n",
              "7496  TRAIN_7496               20.0                105.3  104.0           5.0   \n",
              "7497  TRAIN_7497                8.0                103.1   90.0           6.0   \n",
              "7498  TRAIN_7498               12.0                104.4   97.0           5.0   \n",
              "7499  TRAIN_7499               16.0                104.9   91.0           5.0   \n",
              "\n",
              "      Height(Remainder_Inches)  Weight(lb)  Weight_Status Gender  Age  \\\n",
              "0                          9.0       154.3  Normal Weight      F   45   \n",
              "1                          6.0       224.9     Overweight      M   50   \n",
              "2                          3.0       218.3     Overweight      M   29   \n",
              "3                          6.0       147.7  Normal Weight      F   33   \n",
              "4                         10.0       169.8  Normal Weight      M   38   \n",
              "...                        ...         ...            ...    ...  ...   \n",
              "7495                      10.0       112.4  Normal Weight      F   75   \n",
              "7496                       8.0       147.7  Normal Weight      F   21   \n",
              "7497                       2.0       202.8     Overweight      M   57   \n",
              "7498                       9.0       167.6     Overweight      M   35   \n",
              "7499                      12.0       189.6     Overweight      M   26   \n",
              "\n",
              "      Calories_Burned  \n",
              "0               166.0  \n",
              "1                33.0  \n",
              "2                23.0  \n",
              "3                91.0  \n",
              "4                32.0  \n",
              "...               ...  \n",
              "7495            151.0  \n",
              "7496            114.0  \n",
              "7497             41.0  \n",
              "7498             57.0  \n",
              "7499             59.0  \n",
              "\n",
              "[7500 rows x 11 columns]"
            ],
            "text/html": [
              "\n",
              "  <div id=\"df-bde81dfe-c00f-49a0-9a2a-d2b550dd6d69\">\n",
              "    <div class=\"colab-df-container\">\n",
              "      <div>\n",
              "<style scoped>\n",
              "    .dataframe tbody tr th:only-of-type {\n",
              "        vertical-align: middle;\n",
              "    }\n",
              "\n",
              "    .dataframe tbody tr th {\n",
              "        vertical-align: top;\n",
              "    }\n",
              "\n",
              "    .dataframe thead th {\n",
              "        text-align: right;\n",
              "    }\n",
              "</style>\n",
              "<table border=\"1\" class=\"dataframe\">\n",
              "  <thead>\n",
              "    <tr style=\"text-align: right;\">\n",
              "      <th></th>\n",
              "      <th>ID</th>\n",
              "      <th>Exercise_Duration</th>\n",
              "      <th>Body_Temperature(F)</th>\n",
              "      <th>BPM</th>\n",
              "      <th>Height(Feet)</th>\n",
              "      <th>Height(Remainder_Inches)</th>\n",
              "      <th>Weight(lb)</th>\n",
              "      <th>Weight_Status</th>\n",
              "      <th>Gender</th>\n",
              "      <th>Age</th>\n",
              "      <th>Calories_Burned</th>\n",
              "    </tr>\n",
              "  </thead>\n",
              "  <tbody>\n",
              "    <tr>\n",
              "      <th>0</th>\n",
              "      <td>TRAIN_0000</td>\n",
              "      <td>26.0</td>\n",
              "      <td>105.6</td>\n",
              "      <td>107.0</td>\n",
              "      <td>5.0</td>\n",
              "      <td>9.0</td>\n",
              "      <td>154.3</td>\n",
              "      <td>Normal Weight</td>\n",
              "      <td>F</td>\n",
              "      <td>45</td>\n",
              "      <td>166.0</td>\n",
              "    </tr>\n",
              "    <tr>\n",
              "      <th>1</th>\n",
              "      <td>TRAIN_0001</td>\n",
              "      <td>7.0</td>\n",
              "      <td>103.3</td>\n",
              "      <td>88.0</td>\n",
              "      <td>6.0</td>\n",
              "      <td>6.0</td>\n",
              "      <td>224.9</td>\n",
              "      <td>Overweight</td>\n",
              "      <td>M</td>\n",
              "      <td>50</td>\n",
              "      <td>33.0</td>\n",
              "    </tr>\n",
              "    <tr>\n",
              "      <th>2</th>\n",
              "      <td>TRAIN_0002</td>\n",
              "      <td>7.0</td>\n",
              "      <td>103.3</td>\n",
              "      <td>86.0</td>\n",
              "      <td>6.0</td>\n",
              "      <td>3.0</td>\n",
              "      <td>218.3</td>\n",
              "      <td>Overweight</td>\n",
              "      <td>M</td>\n",
              "      <td>29</td>\n",
              "      <td>23.0</td>\n",
              "    </tr>\n",
              "    <tr>\n",
              "      <th>3</th>\n",
              "      <td>TRAIN_0003</td>\n",
              "      <td>17.0</td>\n",
              "      <td>104.0</td>\n",
              "      <td>99.0</td>\n",
              "      <td>5.0</td>\n",
              "      <td>6.0</td>\n",
              "      <td>147.7</td>\n",
              "      <td>Normal Weight</td>\n",
              "      <td>F</td>\n",
              "      <td>33</td>\n",
              "      <td>91.0</td>\n",
              "    </tr>\n",
              "    <tr>\n",
              "      <th>4</th>\n",
              "      <td>TRAIN_0004</td>\n",
              "      <td>9.0</td>\n",
              "      <td>102.7</td>\n",
              "      <td>88.0</td>\n",
              "      <td>5.0</td>\n",
              "      <td>10.0</td>\n",
              "      <td>169.8</td>\n",
              "      <td>Normal Weight</td>\n",
              "      <td>M</td>\n",
              "      <td>38</td>\n",
              "      <td>32.0</td>\n",
              "    </tr>\n",
              "    <tr>\n",
              "      <th>...</th>\n",
              "      <td>...</td>\n",
              "      <td>...</td>\n",
              "      <td>...</td>\n",
              "      <td>...</td>\n",
              "      <td>...</td>\n",
              "      <td>...</td>\n",
              "      <td>...</td>\n",
              "      <td>...</td>\n",
              "      <td>...</td>\n",
              "      <td>...</td>\n",
              "      <td>...</td>\n",
              "    </tr>\n",
              "    <tr>\n",
              "      <th>7495</th>\n",
              "      <td>TRAIN_7495</td>\n",
              "      <td>22.0</td>\n",
              "      <td>105.1</td>\n",
              "      <td>104.0</td>\n",
              "      <td>4.0</td>\n",
              "      <td>10.0</td>\n",
              "      <td>112.4</td>\n",
              "      <td>Normal Weight</td>\n",
              "      <td>F</td>\n",
              "      <td>75</td>\n",
              "      <td>151.0</td>\n",
              "    </tr>\n",
              "    <tr>\n",
              "      <th>7496</th>\n",
              "      <td>TRAIN_7496</td>\n",
              "      <td>20.0</td>\n",
              "      <td>105.3</td>\n",
              "      <td>104.0</td>\n",
              "      <td>5.0</td>\n",
              "      <td>8.0</td>\n",
              "      <td>147.7</td>\n",
              "      <td>Normal Weight</td>\n",
              "      <td>F</td>\n",
              "      <td>21</td>\n",
              "      <td>114.0</td>\n",
              "    </tr>\n",
              "    <tr>\n",
              "      <th>7497</th>\n",
              "      <td>TRAIN_7497</td>\n",
              "      <td>8.0</td>\n",
              "      <td>103.1</td>\n",
              "      <td>90.0</td>\n",
              "      <td>6.0</td>\n",
              "      <td>2.0</td>\n",
              "      <td>202.8</td>\n",
              "      <td>Overweight</td>\n",
              "      <td>M</td>\n",
              "      <td>57</td>\n",
              "      <td>41.0</td>\n",
              "    </tr>\n",
              "    <tr>\n",
              "      <th>7498</th>\n",
              "      <td>TRAIN_7498</td>\n",
              "      <td>12.0</td>\n",
              "      <td>104.4</td>\n",
              "      <td>97.0</td>\n",
              "      <td>5.0</td>\n",
              "      <td>9.0</td>\n",
              "      <td>167.6</td>\n",
              "      <td>Overweight</td>\n",
              "      <td>M</td>\n",
              "      <td>35</td>\n",
              "      <td>57.0</td>\n",
              "    </tr>\n",
              "    <tr>\n",
              "      <th>7499</th>\n",
              "      <td>TRAIN_7499</td>\n",
              "      <td>16.0</td>\n",
              "      <td>104.9</td>\n",
              "      <td>91.0</td>\n",
              "      <td>5.0</td>\n",
              "      <td>12.0</td>\n",
              "      <td>189.6</td>\n",
              "      <td>Overweight</td>\n",
              "      <td>M</td>\n",
              "      <td>26</td>\n",
              "      <td>59.0</td>\n",
              "    </tr>\n",
              "  </tbody>\n",
              "</table>\n",
              "<p>7500 rows × 11 columns</p>\n",
              "</div>\n",
              "      <button class=\"colab-df-convert\" onclick=\"convertToInteractive('df-bde81dfe-c00f-49a0-9a2a-d2b550dd6d69')\"\n",
              "              title=\"Convert this dataframe to an interactive table.\"\n",
              "              style=\"display:none;\">\n",
              "        \n",
              "  <svg xmlns=\"http://www.w3.org/2000/svg\" height=\"24px\"viewBox=\"0 0 24 24\"\n",
              "       width=\"24px\">\n",
              "    <path d=\"M0 0h24v24H0V0z\" fill=\"none\"/>\n",
              "    <path d=\"M18.56 5.44l.94 2.06.94-2.06 2.06-.94-2.06-.94-.94-2.06-.94 2.06-2.06.94zm-11 1L8.5 8.5l.94-2.06 2.06-.94-2.06-.94L8.5 2.5l-.94 2.06-2.06.94zm10 10l.94 2.06.94-2.06 2.06-.94-2.06-.94-.94-2.06-.94 2.06-2.06.94z\"/><path d=\"M17.41 7.96l-1.37-1.37c-.4-.4-.92-.59-1.43-.59-.52 0-1.04.2-1.43.59L10.3 9.45l-7.72 7.72c-.78.78-.78 2.05 0 2.83L4 21.41c.39.39.9.59 1.41.59.51 0 1.02-.2 1.41-.59l7.78-7.78 2.81-2.81c.8-.78.8-2.07 0-2.86zM5.41 20L4 18.59l7.72-7.72 1.47 1.35L5.41 20z\"/>\n",
              "  </svg>\n",
              "      </button>\n",
              "      \n",
              "  <style>\n",
              "    .colab-df-container {\n",
              "      display:flex;\n",
              "      flex-wrap:wrap;\n",
              "      gap: 12px;\n",
              "    }\n",
              "\n",
              "    .colab-df-convert {\n",
              "      background-color: #E8F0FE;\n",
              "      border: none;\n",
              "      border-radius: 50%;\n",
              "      cursor: pointer;\n",
              "      display: none;\n",
              "      fill: #1967D2;\n",
              "      height: 32px;\n",
              "      padding: 0 0 0 0;\n",
              "      width: 32px;\n",
              "    }\n",
              "\n",
              "    .colab-df-convert:hover {\n",
              "      background-color: #E2EBFA;\n",
              "      box-shadow: 0px 1px 2px rgba(60, 64, 67, 0.3), 0px 1px 3px 1px rgba(60, 64, 67, 0.15);\n",
              "      fill: #174EA6;\n",
              "    }\n",
              "\n",
              "    [theme=dark] .colab-df-convert {\n",
              "      background-color: #3B4455;\n",
              "      fill: #D2E3FC;\n",
              "    }\n",
              "\n",
              "    [theme=dark] .colab-df-convert:hover {\n",
              "      background-color: #434B5C;\n",
              "      box-shadow: 0px 1px 3px 1px rgba(0, 0, 0, 0.15);\n",
              "      filter: drop-shadow(0px 1px 2px rgba(0, 0, 0, 0.3));\n",
              "      fill: #FFFFFF;\n",
              "    }\n",
              "  </style>\n",
              "\n",
              "      <script>\n",
              "        const buttonEl =\n",
              "          document.querySelector('#df-bde81dfe-c00f-49a0-9a2a-d2b550dd6d69 button.colab-df-convert');\n",
              "        buttonEl.style.display =\n",
              "          google.colab.kernel.accessAllowed ? 'block' : 'none';\n",
              "\n",
              "        async function convertToInteractive(key) {\n",
              "          const element = document.querySelector('#df-bde81dfe-c00f-49a0-9a2a-d2b550dd6d69');\n",
              "          const dataTable =\n",
              "            await google.colab.kernel.invokeFunction('convertToInteractive',\n",
              "                                                     [key], {});\n",
              "          if (!dataTable) return;\n",
              "\n",
              "          const docLinkHtml = 'Like what you see? Visit the ' +\n",
              "            '<a target=\"_blank\" href=https://colab.research.google.com/notebooks/data_table.ipynb>data table notebook</a>'\n",
              "            + ' to learn more about interactive tables.';\n",
              "          element.innerHTML = '';\n",
              "          dataTable['output_type'] = 'display_data';\n",
              "          await google.colab.output.renderOutput(dataTable, element);\n",
              "          const docLink = document.createElement('div');\n",
              "          docLink.innerHTML = docLinkHtml;\n",
              "          element.appendChild(docLink);\n",
              "        }\n",
              "      </script>\n",
              "    </div>\n",
              "  </div>\n",
              "  "
            ]
          },
          "metadata": {},
          "execution_count": 6
        }
      ]
    },
    {
      "cell_type": "code",
      "source": [
        "train[\"Height\"] = train.pop(\"Height(Feet)\") * 30.48 + train.pop(\"Height(Remainder_Inches)\") * 2.54\n",
        "test[\"Height\"] = test.pop(\"Height(Feet)\") * 30.48 + test.pop(\"Height(Remainder_Inches)\") * 2.54\n",
        "\n",
        "train[\"Weight\"] = train.pop(\"Weight(lb)\") * 0.453592\n",
        "test[\"Weight\"] = test.pop(\"Weight(lb)\") * 0.453592\n",
        "\n",
        "train[\"Body_Temperature\"] = (train.pop(\"Body_Temperature(F)\") - 32) / 1.8\n",
        "test[\"Body_Temperature\"] = (test.pop(\"Body_Temperature(F)\") - 32) / 1.8\n",
        "train[\"BMI\"] = train[\"Weight\"] / (train[\"Height\"] / 100)**2\n",
        "test[\"BMI\"] = test[\"Weight\"] / (test[\"Height\"] / 100)**2\n",
        "\n",
        "train = train.drop(\"Weight_Status\", axis=1)\n",
        "test = test.drop(\"Weight_Status\", axis=1)\n",
        "\n",
        "train[\"Gender\"] = train[\"Gender\"].map({\"F\": 0, \"M\": 1})\n",
        "test[\"Gender\"] = test[\"Gender\"].map({\"F\": 0, \"M\": 1})\n",
        "train[\"Calories_Burned\"] = np.log1p(train[\"Calories_Burned\"])\n",
        "\n",
        "train[\"Age\"] = np.log(train[\"Age\"])\n",
        "test[\"Age\"] = np.log(test[\"Age\"])\n",
        "\n",
        "body_temp_mean = train[\"Body_Temperature\"].mean()\n",
        "body_temp_std = train[\"Body_Temperature\"].std()\n",
        "train[\"Body_Temperature\"] = (((train[\"Body_Temperature\"] - body_temp_mean) / body_temp_std) + 4)**3\n",
        "test[\"Body_Temperature\"] = (((test[\"Body_Temperature\"] - body_temp_mean) / body_temp_std) + 4)**3"
      ],
      "metadata": {
        "id": "f46zeckHTpuo"
      },
      "execution_count": 7,
      "outputs": []
    },
    {
      "cell_type": "markdown",
      "source": [],
      "metadata": {
        "id": "TSXWUQp8iAdF"
      }
    },
    {
      "cell_type": "code",
      "source": [
        "# 독립변수로 설정할 train_x에서는 종속변수를 제거합니다. 또한 분석에 활용하지 않는 ID 데이터를 제거합니다.\n",
        "X = train.drop(['ID','Calories_Burned'], axis = 1)\n",
        "# train_y 변수를 종속변수로 사용하기 위해 Calories_Burned 데이터를 지정하였습니다.\n",
        "Y = train['Calories_Burned']\n",
        "\n",
        "# train_x 데이터와 마찬가지로 분석에 활용하지 않는 ID 데이터를 제거합니다.\n",
        "test_x = test.drop('ID', axis = 1)\n"
      ],
      "metadata": {
        "trusted": true,
        "id": "jiB-jfsr4LgP"
      },
      "execution_count": 8,
      "outputs": []
    },
    {
      "cell_type": "markdown",
      "source": [
        "스케일링"
      ],
      "metadata": {
        "id": "KiVmQ5SSHVP1"
      }
    },
    {
      "cell_type": "code",
      "source": [
        "from sklearn.preprocessing import StandardScaler\n",
        "scaler = StandardScaler()\n",
        "Scale_train = scaler.fit_transform(X)\n",
        "Scale_test  = scaler.fit_transform(test_x)"
      ],
      "metadata": {
        "id": "XueOiNnlHLyP"
      },
      "execution_count": 9,
      "outputs": []
    },
    {
      "cell_type": "code",
      "source": [
        "X_train, X_test, y_train, y_test = train_test_split(Scale_train, Y,shuffle=True, test_size=0.3)"
      ],
      "metadata": {
        "id": "P6q5ZJPnhl1D"
      },
      "execution_count": 12,
      "outputs": []
    },
    {
      "cell_type": "code",
      "source": [
        "tf.keras.activations.gelu\n",
        "tf.keras.activations.selu\n",
        "tf.keras.activations.elu\n",
        "\n",
        "\n",
        "model = tf.keras.Sequential([\n",
        "  tf.keras.layers.Dense(256, activation=\"selu\"),\n",
        "  tf.keras.layers.Dropout(0.2),\n",
        "  tf.keras.layers.Dense(128, activation=\"selu\"),\n",
        "  tf.keras.layers.Dropout(0.2),\n",
        "  tf.keras.layers.Dense(64, activation=\"elu\"),\n",
        "  tf.keras.layers.Dropout(0.2),\n",
        "  tf.keras.layers.Dense(32, activation=\"selu\"),\n",
        "  tf.keras.layers.Dropout(0.2),\n",
        "  tf.keras.layers.Dense(16, activation=\"elu\"),\n",
        "  tf.keras.layers.Dropout(0.2),\n",
        "  tf.keras.layers.Dense(8),\n",
        "  tf.keras.layers.Dropout(0.2),\n",
        "  tf.keras.layers.Dense(1,activation='linear')    \n",
        "])"
      ],
      "metadata": {
        "id": "RhZop1tiHgDU"
      },
      "execution_count": 13,
      "outputs": []
    },
    {
      "cell_type": "code",
      "source": [
        "early_stopping = callbacks.EarlyStopping(monitor=\"val_loss\",patience=15,restore_best_weights=True)"
      ],
      "metadata": {
        "id": "SZejCY1oHj6Z"
      },
      "execution_count": 14,
      "outputs": []
    },
    {
      "cell_type": "code",
      "source": [
        "reduce_lr = callbacks.ReduceLROnPlateau(monitor='val_loss', factor=0.1 ,patience=5,min_lr=0.0001)"
      ],
      "metadata": {
        "id": "5LNYb67eHnbK"
      },
      "execution_count": 15,
      "outputs": []
    },
    {
      "cell_type": "code",
      "source": [
        "y_test"
      ],
      "metadata": {
        "colab": {
          "base_uri": "https://localhost:8080/"
        },
        "id": "Fwm9Yvv8HoBn",
        "outputId": "6f84a97b-f73b-41e6-e15a-b1a658863553"
      },
      "execution_count": 18,
      "outputs": [
        {
          "output_type": "execute_result",
          "data": {
            "text/plain": [
              "970     2.995732\n",
              "6279    4.890349\n",
              "1859    4.795791\n",
              "6803    2.639057\n",
              "6305    3.044522\n",
              "          ...   \n",
              "1773    3.091042\n",
              "3761    4.248495\n",
              "1209    4.276666\n",
              "3936    5.484797\n",
              "4317    4.718499\n",
              "Name: Calories_Burned, Length: 2250, dtype: float64"
            ]
          },
          "metadata": {},
          "execution_count": 18
        }
      ]
    },
    {
      "cell_type": "code",
      "source": [
        "# To Comiple the model\n",
        "model.compile(loss='mean_squared_error', optimizer=tf.keras.optimizers.Adam(learning_rate=0.005))          "
      ],
      "metadata": {
        "id": "qf4eYtNqHoD3"
      },
      "execution_count": 19,
      "outputs": []
    },
    {
      "cell_type": "code",
      "source": [
        "predictions = model.fit(X_train,y_train,epochs=100,callbacks=[early_stopping,reduce_lr],validation_data=(X_test, y_test))"
      ],
      "metadata": {
        "colab": {
          "base_uri": "https://localhost:8080/"
        },
        "id": "EUXfkuWqHoGF",
        "outputId": "e31484c0-0db4-4ae7-ba0f-2aad14a9138b"
      },
      "execution_count": 20,
      "outputs": [
        {
          "output_type": "stream",
          "name": "stdout",
          "text": [
            "Epoch 1/100\n",
            "165/165 [==============================] - 10s 12ms/step - loss: 3.0095 - val_loss: 0.0566 - lr: 0.0050\n",
            "Epoch 2/100\n",
            "165/165 [==============================] - 1s 5ms/step - loss: 1.0108 - val_loss: 0.1404 - lr: 0.0050\n",
            "Epoch 3/100\n",
            "165/165 [==============================] - 1s 5ms/step - loss: 0.7626 - val_loss: 0.0370 - lr: 0.0050\n",
            "Epoch 4/100\n",
            "165/165 [==============================] - 1s 5ms/step - loss: 0.6154 - val_loss: 0.0657 - lr: 0.0050\n",
            "Epoch 5/100\n",
            "165/165 [==============================] - 1s 5ms/step - loss: 0.4893 - val_loss: 0.0234 - lr: 0.0050\n",
            "Epoch 6/100\n",
            "165/165 [==============================] - 1s 5ms/step - loss: 0.3867 - val_loss: 0.0243 - lr: 0.0050\n",
            "Epoch 7/100\n",
            "165/165 [==============================] - 1s 5ms/step - loss: 0.3203 - val_loss: 0.0328 - lr: 0.0050\n",
            "Epoch 8/100\n",
            "165/165 [==============================] - 1s 5ms/step - loss: 0.2667 - val_loss: 0.0293 - lr: 0.0050\n",
            "Epoch 9/100\n",
            "165/165 [==============================] - 1s 5ms/step - loss: 0.2374 - val_loss: 0.0255 - lr: 0.0050\n",
            "Epoch 10/100\n",
            "165/165 [==============================] - 1s 7ms/step - loss: 0.2057 - val_loss: 0.0257 - lr: 0.0050\n",
            "Epoch 11/100\n",
            "165/165 [==============================] - 1s 8ms/step - loss: 0.1773 - val_loss: 0.0132 - lr: 5.0000e-04\n",
            "Epoch 12/100\n",
            "165/165 [==============================] - 1s 5ms/step - loss: 0.1757 - val_loss: 0.0116 - lr: 5.0000e-04\n",
            "Epoch 13/100\n",
            "165/165 [==============================] - 1s 5ms/step - loss: 0.1692 - val_loss: 0.0127 - lr: 5.0000e-04\n",
            "Epoch 14/100\n",
            "165/165 [==============================] - 1s 5ms/step - loss: 0.1650 - val_loss: 0.0124 - lr: 5.0000e-04\n",
            "Epoch 15/100\n",
            "165/165 [==============================] - 1s 5ms/step - loss: 0.1661 - val_loss: 0.0102 - lr: 5.0000e-04\n",
            "Epoch 16/100\n",
            "165/165 [==============================] - 1s 5ms/step - loss: 0.1621 - val_loss: 0.0119 - lr: 5.0000e-04\n",
            "Epoch 17/100\n",
            "165/165 [==============================] - 1s 5ms/step - loss: 0.1566 - val_loss: 0.0113 - lr: 5.0000e-04\n",
            "Epoch 18/100\n",
            "165/165 [==============================] - 1s 5ms/step - loss: 0.1561 - val_loss: 0.0110 - lr: 5.0000e-04\n",
            "Epoch 19/100\n",
            "165/165 [==============================] - 1s 5ms/step - loss: 0.1579 - val_loss: 0.0100 - lr: 5.0000e-04\n",
            "Epoch 20/100\n",
            "165/165 [==============================] - 1s 5ms/step - loss: 0.1450 - val_loss: 0.0095 - lr: 5.0000e-04\n",
            "Epoch 21/100\n",
            "165/165 [==============================] - 1s 5ms/step - loss: 0.1459 - val_loss: 0.0099 - lr: 5.0000e-04\n",
            "Epoch 22/100\n",
            "165/165 [==============================] - 1s 5ms/step - loss: 0.1435 - val_loss: 0.0142 - lr: 5.0000e-04\n",
            "Epoch 23/100\n",
            "165/165 [==============================] - 1s 5ms/step - loss: 0.1438 - val_loss: 0.0112 - lr: 5.0000e-04\n",
            "Epoch 24/100\n",
            "165/165 [==============================] - 1s 7ms/step - loss: 0.1360 - val_loss: 0.0168 - lr: 5.0000e-04\n",
            "Epoch 25/100\n",
            "165/165 [==============================] - 1s 7ms/step - loss: 0.1396 - val_loss: 0.0118 - lr: 5.0000e-04\n",
            "Epoch 26/100\n",
            "165/165 [==============================] - 1s 5ms/step - loss: 0.1306 - val_loss: 0.0096 - lr: 1.0000e-04\n",
            "Epoch 27/100\n",
            "165/165 [==============================] - 1s 5ms/step - loss: 0.1286 - val_loss: 0.0095 - lr: 1.0000e-04\n",
            "Epoch 28/100\n",
            "165/165 [==============================] - 1s 5ms/step - loss: 0.1298 - val_loss: 0.0096 - lr: 1.0000e-04\n",
            "Epoch 29/100\n",
            "165/165 [==============================] - 1s 5ms/step - loss: 0.1306 - val_loss: 0.0090 - lr: 1.0000e-04\n",
            "Epoch 30/100\n",
            "165/165 [==============================] - 1s 5ms/step - loss: 0.1320 - val_loss: 0.0109 - lr: 1.0000e-04\n",
            "Epoch 31/100\n",
            "165/165 [==============================] - 1s 5ms/step - loss: 0.1270 - val_loss: 0.0095 - lr: 1.0000e-04\n",
            "Epoch 32/100\n",
            "165/165 [==============================] - 1s 5ms/step - loss: 0.1263 - val_loss: 0.0098 - lr: 1.0000e-04\n",
            "Epoch 33/100\n",
            "165/165 [==============================] - 1s 5ms/step - loss: 0.1221 - val_loss: 0.0091 - lr: 1.0000e-04\n",
            "Epoch 34/100\n",
            "165/165 [==============================] - 1s 5ms/step - loss: 0.1261 - val_loss: 0.0079 - lr: 1.0000e-04\n",
            "Epoch 35/100\n",
            "165/165 [==============================] - 1s 5ms/step - loss: 0.1221 - val_loss: 0.0088 - lr: 1.0000e-04\n",
            "Epoch 36/100\n",
            "165/165 [==============================] - 1s 5ms/step - loss: 0.1215 - val_loss: 0.0096 - lr: 1.0000e-04\n",
            "Epoch 37/100\n",
            "165/165 [==============================] - 1s 5ms/step - loss: 0.1229 - val_loss: 0.0091 - lr: 1.0000e-04\n",
            "Epoch 38/100\n",
            "165/165 [==============================] - 1s 8ms/step - loss: 0.1244 - val_loss: 0.0076 - lr: 1.0000e-04\n",
            "Epoch 39/100\n",
            "165/165 [==============================] - 1s 7ms/step - loss: 0.1236 - val_loss: 0.0085 - lr: 1.0000e-04\n",
            "Epoch 40/100\n",
            "165/165 [==============================] - 1s 5ms/step - loss: 0.1140 - val_loss: 0.0115 - lr: 1.0000e-04\n",
            "Epoch 41/100\n",
            "165/165 [==============================] - 1s 5ms/step - loss: 0.1194 - val_loss: 0.0091 - lr: 1.0000e-04\n",
            "Epoch 42/100\n",
            "165/165 [==============================] - 1s 5ms/step - loss: 0.1199 - val_loss: 0.0117 - lr: 1.0000e-04\n",
            "Epoch 43/100\n",
            "165/165 [==============================] - 1s 5ms/step - loss: 0.1195 - val_loss: 0.0075 - lr: 1.0000e-04\n",
            "Epoch 44/100\n",
            "165/165 [==============================] - 1s 5ms/step - loss: 0.1122 - val_loss: 0.0072 - lr: 1.0000e-04\n",
            "Epoch 45/100\n",
            "165/165 [==============================] - 1s 5ms/step - loss: 0.1236 - val_loss: 0.0074 - lr: 1.0000e-04\n",
            "Epoch 46/100\n",
            "165/165 [==============================] - 1s 5ms/step - loss: 0.1134 - val_loss: 0.0104 - lr: 1.0000e-04\n",
            "Epoch 47/100\n",
            "165/165 [==============================] - 1s 5ms/step - loss: 0.1188 - val_loss: 0.0084 - lr: 1.0000e-04\n",
            "Epoch 48/100\n",
            "165/165 [==============================] - 1s 5ms/step - loss: 0.1146 - val_loss: 0.0070 - lr: 1.0000e-04\n",
            "Epoch 49/100\n",
            "165/165 [==============================] - 1s 5ms/step - loss: 0.1162 - val_loss: 0.0076 - lr: 1.0000e-04\n",
            "Epoch 50/100\n",
            "165/165 [==============================] - 1s 5ms/step - loss: 0.1164 - val_loss: 0.0075 - lr: 1.0000e-04\n",
            "Epoch 51/100\n",
            "165/165 [==============================] - 1s 7ms/step - loss: 0.1215 - val_loss: 0.0103 - lr: 1.0000e-04\n",
            "Epoch 52/100\n",
            "165/165 [==============================] - 1s 8ms/step - loss: 0.1174 - val_loss: 0.0073 - lr: 1.0000e-04\n",
            "Epoch 53/100\n",
            "165/165 [==============================] - 1s 5ms/step - loss: 0.1120 - val_loss: 0.0071 - lr: 1.0000e-04\n",
            "Epoch 54/100\n",
            "165/165 [==============================] - 1s 6ms/step - loss: 0.1106 - val_loss: 0.0088 - lr: 1.0000e-04\n",
            "Epoch 55/100\n",
            "165/165 [==============================] - 1s 6ms/step - loss: 0.1172 - val_loss: 0.0080 - lr: 1.0000e-04\n",
            "Epoch 56/100\n",
            "165/165 [==============================] - 1s 5ms/step - loss: 0.1070 - val_loss: 0.0096 - lr: 1.0000e-04\n",
            "Epoch 57/100\n",
            "165/165 [==============================] - 1s 5ms/step - loss: 0.1094 - val_loss: 0.0093 - lr: 1.0000e-04\n",
            "Epoch 58/100\n",
            "165/165 [==============================] - 1s 5ms/step - loss: 0.1126 - val_loss: 0.0102 - lr: 1.0000e-04\n",
            "Epoch 59/100\n",
            "165/165 [==============================] - 1s 5ms/step - loss: 0.1087 - val_loss: 0.0085 - lr: 1.0000e-04\n",
            "Epoch 60/100\n",
            "165/165 [==============================] - 1s 5ms/step - loss: 0.1121 - val_loss: 0.0068 - lr: 1.0000e-04\n",
            "Epoch 61/100\n",
            "165/165 [==============================] - 1s 5ms/step - loss: 0.1104 - val_loss: 0.0079 - lr: 1.0000e-04\n",
            "Epoch 62/100\n",
            "165/165 [==============================] - 1s 5ms/step - loss: 0.1085 - val_loss: 0.0070 - lr: 1.0000e-04\n",
            "Epoch 63/100\n",
            "165/165 [==============================] - 1s 7ms/step - loss: 0.1054 - val_loss: 0.0069 - lr: 1.0000e-04\n",
            "Epoch 64/100\n",
            "165/165 [==============================] - 1s 8ms/step - loss: 0.1062 - val_loss: 0.0064 - lr: 1.0000e-04\n",
            "Epoch 65/100\n",
            "165/165 [==============================] - 1s 7ms/step - loss: 0.1023 - val_loss: 0.0085 - lr: 1.0000e-04\n",
            "Epoch 66/100\n",
            "165/165 [==============================] - 1s 5ms/step - loss: 0.1051 - val_loss: 0.0067 - lr: 1.0000e-04\n",
            "Epoch 67/100\n",
            "165/165 [==============================] - 1s 8ms/step - loss: 0.1068 - val_loss: 0.0079 - lr: 1.0000e-04\n",
            "Epoch 68/100\n",
            "165/165 [==============================] - 1s 8ms/step - loss: 0.1037 - val_loss: 0.0061 - lr: 1.0000e-04\n",
            "Epoch 69/100\n",
            "165/165 [==============================] - 1s 5ms/step - loss: 0.1020 - val_loss: 0.0075 - lr: 1.0000e-04\n",
            "Epoch 70/100\n",
            "165/165 [==============================] - 1s 6ms/step - loss: 0.1085 - val_loss: 0.0061 - lr: 1.0000e-04\n",
            "Epoch 71/100\n",
            "165/165 [==============================] - 1s 6ms/step - loss: 0.1028 - val_loss: 0.0081 - lr: 1.0000e-04\n",
            "Epoch 72/100\n",
            "165/165 [==============================] - 1s 6ms/step - loss: 0.0983 - val_loss: 0.0071 - lr: 1.0000e-04\n",
            "Epoch 73/100\n",
            "165/165 [==============================] - 1s 6ms/step - loss: 0.0973 - val_loss: 0.0078 - lr: 1.0000e-04\n",
            "Epoch 74/100\n",
            "165/165 [==============================] - 1s 5ms/step - loss: 0.0963 - val_loss: 0.0069 - lr: 1.0000e-04\n",
            "Epoch 75/100\n",
            "165/165 [==============================] - 1s 6ms/step - loss: 0.1029 - val_loss: 0.0088 - lr: 1.0000e-04\n",
            "Epoch 76/100\n",
            "165/165 [==============================] - 1s 8ms/step - loss: 0.1000 - val_loss: 0.0068 - lr: 1.0000e-04\n",
            "Epoch 77/100\n",
            "165/165 [==============================] - 1s 7ms/step - loss: 0.0970 - val_loss: 0.0060 - lr: 1.0000e-04\n",
            "Epoch 78/100\n",
            "165/165 [==============================] - 1s 5ms/step - loss: 0.0948 - val_loss: 0.0086 - lr: 1.0000e-04\n",
            "Epoch 79/100\n",
            "165/165 [==============================] - 1s 5ms/step - loss: 0.0985 - val_loss: 0.0079 - lr: 1.0000e-04\n",
            "Epoch 80/100\n",
            "165/165 [==============================] - 1s 5ms/step - loss: 0.0979 - val_loss: 0.0064 - lr: 1.0000e-04\n",
            "Epoch 81/100\n",
            "165/165 [==============================] - 1s 5ms/step - loss: 0.0962 - val_loss: 0.0096 - lr: 1.0000e-04\n",
            "Epoch 82/100\n",
            "165/165 [==============================] - 1s 5ms/step - loss: 0.0986 - val_loss: 0.0060 - lr: 1.0000e-04\n",
            "Epoch 83/100\n",
            "165/165 [==============================] - 1s 5ms/step - loss: 0.0938 - val_loss: 0.0057 - lr: 1.0000e-04\n",
            "Epoch 84/100\n",
            "165/165 [==============================] - 1s 5ms/step - loss: 0.0901 - val_loss: 0.0073 - lr: 1.0000e-04\n",
            "Epoch 85/100\n",
            "165/165 [==============================] - 1s 5ms/step - loss: 0.0938 - val_loss: 0.0064 - lr: 1.0000e-04\n",
            "Epoch 86/100\n",
            "165/165 [==============================] - 1s 5ms/step - loss: 0.0934 - val_loss: 0.0053 - lr: 1.0000e-04\n",
            "Epoch 87/100\n",
            "165/165 [==============================] - 1s 5ms/step - loss: 0.0936 - val_loss: 0.0052 - lr: 1.0000e-04\n",
            "Epoch 88/100\n",
            "165/165 [==============================] - 1s 5ms/step - loss: 0.0966 - val_loss: 0.0055 - lr: 1.0000e-04\n",
            "Epoch 89/100\n",
            "165/165 [==============================] - 1s 7ms/step - loss: 0.0949 - val_loss: 0.0065 - lr: 1.0000e-04\n",
            "Epoch 90/100\n",
            "165/165 [==============================] - 1s 8ms/step - loss: 0.0935 - val_loss: 0.0070 - lr: 1.0000e-04\n",
            "Epoch 91/100\n",
            "165/165 [==============================] - 1s 5ms/step - loss: 0.0939 - val_loss: 0.0074 - lr: 1.0000e-04\n",
            "Epoch 92/100\n",
            "165/165 [==============================] - 1s 5ms/step - loss: 0.0924 - val_loss: 0.0065 - lr: 1.0000e-04\n",
            "Epoch 93/100\n",
            "165/165 [==============================] - 1s 5ms/step - loss: 0.0918 - val_loss: 0.0078 - lr: 1.0000e-04\n",
            "Epoch 94/100\n",
            "165/165 [==============================] - 1s 5ms/step - loss: 0.0926 - val_loss: 0.0120 - lr: 1.0000e-04\n",
            "Epoch 95/100\n",
            "165/165 [==============================] - 1s 5ms/step - loss: 0.0921 - val_loss: 0.0045 - lr: 1.0000e-04\n",
            "Epoch 96/100\n",
            "165/165 [==============================] - 1s 5ms/step - loss: 0.0890 - val_loss: 0.0054 - lr: 1.0000e-04\n",
            "Epoch 97/100\n",
            "165/165 [==============================] - 1s 5ms/step - loss: 0.0902 - val_loss: 0.0063 - lr: 1.0000e-04\n",
            "Epoch 98/100\n",
            "165/165 [==============================] - 1s 5ms/step - loss: 0.0910 - val_loss: 0.0057 - lr: 1.0000e-04\n",
            "Epoch 99/100\n",
            "165/165 [==============================] - 1s 5ms/step - loss: 0.0886 - val_loss: 0.0054 - lr: 1.0000e-04\n",
            "Epoch 100/100\n",
            "165/165 [==============================] - 1s 8ms/step - loss: 0.0896 - val_loss: 0.0050 - lr: 1.0000e-04\n"
          ]
        }
      ]
    },
    {
      "cell_type": "code",
      "source": [
        "pd.DataFrame(predictions.history).plot()"
      ],
      "metadata": {
        "colab": {
          "base_uri": "https://localhost:8080/",
          "height": 448
        },
        "id": "h6sL9eo3IBDI",
        "outputId": "fdc9496c-6519-48ed-ec16-d0b92ff8c3e4"
      },
      "execution_count": 21,
      "outputs": [
        {
          "output_type": "execute_result",
          "data": {
            "text/plain": [
              "<Axes: >"
            ]
          },
          "metadata": {},
          "execution_count": 21
        },
        {
          "output_type": "display_data",
          "data": {
            "text/plain": [
              "<Figure size 640x480 with 1 Axes>"
            ],
            "image/png": "[encoded data removed]"
          },
          "metadata": {}
        }
      ]
    },
    {
      "cell_type": "code",
      "source": [
        "pred = model.predict(Scale_test)"
      ],
      "metadata": {
        "colab": {
          "base_uri": "https://localhost:8080/"
        },
        "id": "u3Oe0SP5Icp7",
        "outputId": "ec59125e-59eb-418b-e237-dab63bc06bf6"
      },
      "execution_count": 22,
      "outputs": [
        {
          "output_type": "stream",
          "name": "stdout",
          "text": [
            "235/235 [==============================] - 1s 2ms/step\n"
          ]
        }
      ]
    },
    {
      "cell_type": "code",
      "source": [
        "pred"
      ],
      "metadata": {
        "colab": {
          "base_uri": "https://localhost:8080/"
        },
        "id": "_QFbeEkkIh0y",
        "outputId": "b8c618cb-ed94-4df3-e713-505e796fd0e5"
      },
      "execution_count": 23,
      "outputs": [
        {
          "output_type": "execute_result",
          "data": {
            "text/plain": [
              "array([[5.1429143],\n",
              "       [5.1983843],\n",
              "       [3.9180133],\n",
              "       ...,\n",
              "       [4.8749704],\n",
              "       [3.4910157],\n",
              "       [5.2162266]], dtype=float32)"
            ]
          },
          "metadata": {},
          "execution_count": 23
        }
      ]
    },
    {
      "cell_type": "code",
      "source": [
        "original_predictions = np.expm1(pred)"
      ],
      "metadata": {
        "id": "yZX78Av7IkKf"
      },
      "execution_count": 24,
      "outputs": []
    },
    {
      "cell_type": "code",
      "source": [
        "original_predictions"
      ],
      "metadata": {
        "colab": {
          "base_uri": "https://localhost:8080/"
        },
        "id": "aK9q_-eRIsPT",
        "outputId": "2937023f-0b5e-46be-f8f7-70f603e7712f"
      },
      "execution_count": 25,
      "outputs": [
        {
          "output_type": "execute_result",
          "data": {
            "text/plain": [
              "array([[170.214   ],\n",
              "       [179.9796  ],\n",
              "       [ 49.300415],\n",
              "       ...,\n",
              "       [129.97028 ],\n",
              "       [ 31.819265],\n",
              "       [183.23767 ]], dtype=float32)"
            ]
          },
          "metadata": {},
          "execution_count": 25
        }
      ]
    },
    {
      "cell_type": "code",
      "source": [
        "submission = pd.read_csv('/content/sample_submission.csv')"
      ],
      "metadata": {
        "id": "LQKAlKW8It2g"
      },
      "execution_count": 27,
      "outputs": []
    },
    {
      "cell_type": "code",
      "source": [
        "submission['Calories_Burned'] = original_predictions"
      ],
      "metadata": {
        "id": "SvGkBpJ5IzI-"
      },
      "execution_count": 28,
      "outputs": []
    },
    {
      "cell_type": "code",
      "source": [
        "submission.to_csv('/content/kaggle_reference.csv', index = False)"
      ],
      "metadata": {
        "id": "rMP3a40UI4Re"
      },
      "execution_count": 29,
      "outputs": []
    },
    {
      "cell_type": "code",
      "source": [],
      "metadata": {
        "id": "vNPKtZZqI-ZE"
      },
      "execution_count": null,
      "outputs": []
    }
  ]
}